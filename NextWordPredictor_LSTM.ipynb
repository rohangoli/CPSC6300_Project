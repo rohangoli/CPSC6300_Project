{
 "cells": [
  {
   "cell_type": "code",
   "execution_count": 1,
   "metadata": {},
   "outputs": [],
   "source": [
    "import os\n",
    "import numpy as np\n",
    "import re\n",
    "import requests\n",
    "import tarfile\n",
    "import shutil\n",
    "import glob\n",
    "\n",
    "import tensorflow as tf\n",
    "from tensorflow.keras.preprocessing.text import Tokenizer\n",
    "from tensorflow.keras.layers import Embedding, LSTM, Dense\n",
    "from tensorflow.keras.models import Sequential\n",
    "from tensorflow.keras.utils import to_categorical\n",
    "from tensorflow.keras.optimizers import Adam\n",
    "import pickle"
   ]
  },
  {
   "cell_type": "code",
   "execution_count": 2,
   "metadata": {},
   "outputs": [],
   "source": [
    "file_name = \"Project_CodeNet_LangClass.tar.gz\"\n",
    "data_url = f\"https://dax-cdn.cdn.appdomain.cloud/dax-project-codenet/1.0.0/{file_name}\"\n",
    "\n",
    "# Download tar archive to local disk\n",
    "with open(file_name, \"wb\") as f:\n",
    "    f.write(requests.get(data_url).content)\n",
    "    \n",
    "# Extract contents of archive to local disk\n",
    "if os.path.exists(\"data\"):\n",
    "    shutil.rmtree(\"data\")    \n",
    "with tarfile.open(file_name) as tf:\n",
    "    tf.extractall()"
   ]
  },
  {
   "cell_type": "code",
   "execution_count": 3,
   "metadata": {},
   "outputs": [
    {
     "name": "stdout",
     "output_type": "stream",
     "text": [
      "data:\n",
      "test  train\n",
      "\n",
      "data/train:\n",
      "C  C#  C++  D  Haskell\tJava  JavaScript  PHP  Python  Rust\n"
     ]
    }
   ],
   "source": [
    "!ls data data/train"
   ]
  },
  {
   "cell_type": "code",
   "execution_count": 4,
   "metadata": {},
   "outputs": [],
   "source": [
    "langs = [\n",
    "  \"C\",\n",
    "  \"C#\",\n",
    "  \"C++\",\n",
    "  \"D\",\n",
    "  \"Haskell\",\n",
    "  \"Java\",\n",
    "  \"JavaScript\",\n",
    "  \"PHP\",\n",
    "  \"Python\",\n",
    "  \"Rust\"\n",
    "]"
   ]
  },
  {
   "cell_type": "code",
   "execution_count": 5,
   "metadata": {},
   "outputs": [
    {
     "name": "stdout",
     "output_type": "stream",
     "text": [
      "[\"def check(x, y):\\n    return 0 <= x <= 9 and 0 <= y <= 9\\n\\n\\ndef small(x, y, area):\\n    if check(x+1, y):\\n        area[x+1][y] += 1\\n    if check(x, y+1):\\n        area[x][y+1] += 1\\n    if check(x-1, y):\\n        area[x-1][y] += 1\\n    if check(x, y-1):\\n        area[x][y-1] += 1\\n    area[x][y] += 1\\n    return area\\n\\n\\ndef mediam(x, y, area):\\n    area = small(x, y, area)\\n    if check(x+1, y+1):\\n        area[x+1][y+1] += 1\\n    if check(x+1, y-1):\\n        area[x+1][y-1] += 1\\n    if check(x-1, y+1):\\n        area[x-1][y+1] += 1\\n    if check(x-1, y-1):\\n        area[x-1][y-1] += 1\\n    return area\\n\\n\\ndef large(x, y, area):\\n    area = mediam(x, y, area)\\n    if check(x+2, y):\\n        area[x+2][y] += 1\\n    if check(x, y+2):\\n        area[x][y+2] += 1\\n    if check(x-2, y):\\n        area[x-2][y] += 1\\n    if check(x, y-2):\\n        area[x][y-2] += 1\\n    return area\\n\\narea = [[0 for i in range(10)] for j in range(10)]\\n\\nwhile True:\\n    try:\\n        x, y, s = map(int, input().split(','))\\n    except:\\n        break\\n\\n    if s == 1:\\n        area = small(x, y, area)\\n    if s == 2:\\n        area = mediam(x, y, area)\\n    if s == 3:\\n        area = large(x, y, area)\\n\\nmax = 0\\ncnt = 0\\n\\nfor i in range(10):\\n    for j in range(10):\\n        if area[i][j] == 0:\\n            cnt += 1\\n        if area[i][j] > max:\\n            max = area[i][j]\\nprint(cnt)\\nprint(max)\", 'import sys\\n\\ndef main():\\n    data = []\\n    lines = sys.stdin.readlines()\\n\\n    for line in lines:\\n        data.append(line.split())                  N = len(data)\\n    for i in range(N):\\n        for k in range(6):\\n            data[i][k] = int(data[i][k])\\n        det = data[i][0] * data[i][4] - data[i][1] * data[i][3]\\n        gx = data[i][2] * data[i][4] - data[i][1] * data[i][5]\\n        gy = data[i][0] * data[i][5] - data[i][2] * data[i][3]\\n        if det < 0:\\n            det = -det;\\n            if gx != 0: gx = -gx\\n            if gy != 0: gy = -gy\\n        print(\"{0:.3f}\".format(gx / det) + \" \" + \"{0:.3f}\".format(gy / det))\\n\\nif __name__ == \"__main__\":\\n    main()\\n\\n']\n"
     ]
    }
   ],
   "source": [
    "file_list = glob.glob(os.path.join(os.getcwd(),\"data/train/Python\",\"*.*\"))\n",
    "corpus = []\n",
    "\n",
    "for file_path in file_list:\n",
    "    with open(file_path) as f_input:\n",
    "        text = re.sub(r'#.*\\n?', '', f_input.read(), flags=re.MULTILINE)\n",
    "        corpus.append(text)\n",
    "\n",
    "print(corpus[0:2])"
   ]
  },
  {
   "cell_type": "code",
   "execution_count": 6,
   "metadata": {},
   "outputs": [
    {
     "name": "stdout",
     "output_type": "stream",
     "text": [
      "90\n"
     ]
    }
   ],
   "source": [
    "print(len(corpus))"
   ]
  },
  {
   "cell_type": "code",
   "execution_count": 7,
   "metadata": {},
   "outputs": [],
   "source": [
    "lang_full_corpus = '\\n'.join(corpus)"
   ]
  },
  {
   "cell_type": "code",
   "execution_count": 8,
   "metadata": {},
   "outputs": [
    {
     "data": {
      "text/plain": [
       "116635"
      ]
     },
     "execution_count": 8,
     "metadata": {},
     "output_type": "execute_result"
    }
   ],
   "source": [
    "len(lang_full_corpus)"
   ]
  },
  {
   "cell_type": "code",
   "execution_count": 9,
   "metadata": {},
   "outputs": [],
   "source": [
    "#lang_full_corpus = lang_full_corpus.replace('\\n', '').replace('\\r', '').replace('\\ufeff', '').replace('\\t','').replace('  ',' ')\n",
    "lang_full_corpus = lang_full_corpus.replace('\\n', '').replace('\\ufeff', '').replace('  ',' ')"
   ]
  },
  {
   "cell_type": "code",
   "execution_count": 10,
   "metadata": {},
   "outputs": [
    {
     "data": {
      "text/plain": [
       "98578"
      ]
     },
     "execution_count": 10,
     "metadata": {},
     "output_type": "execute_result"
    }
   ],
   "source": [
    "len(lang_full_corpus)"
   ]
  },
  {
   "cell_type": "code",
   "execution_count": 11,
   "metadata": {},
   "outputs": [
    {
     "data": {
      "text/plain": [
       "'def check(x, y):  return 0 <= x <= 9 and 0 <= y <= 9def small(x, y, area):  if check(x+1, y):    area[x+1][y] += 1  if check(x, y+1):    area[x][y+1] += 1  if check(x-1, y):    area[x-1][y] += 1  if check(x, y-1):    area[x][y-1] += 1  area[x][y] += 1  return areadef mediam(x, y, area):  area = small(x, y, area)  if check(x+1, y+1):    area[x+1][y+1] += 1  i'"
      ]
     },
     "execution_count": 11,
     "metadata": {},
     "output_type": "execute_result"
    }
   ],
   "source": [
    "lang_full_corpus[0:360]"
   ]
  },
  {
   "cell_type": "code",
   "execution_count": 12,
   "metadata": {},
   "outputs": [
    {
     "data": {
      "text/plain": [
       "'def check(x, y):  return  <= x <=  and  <= y <= def small(x, y, area):  if check(x+, y):    area[x+][y] +=   if check(x, y+):    area[x][y+] +=   if check(x-, y):    area[x-][y] +=   if check(x, y-):    area[x][y-] +=   area[x][y] +=   return areadef mediam(x, y, area):  area = small(x, y, area)  if check(x+, y+):    area[x+][y+] +=   if check(x+, y-):    ar'"
      ]
     },
     "execution_count": 12,
     "metadata": {},
     "output_type": "execute_result"
    }
   ],
   "source": [
    "from string import digits,punctuation\n",
    "remove_digits = str.maketrans('', '', digits)\n",
    "# remove_punt = str.maketrans(punctuation, ' '*len(punctuation)) \n",
    "res = lang_full_corpus.translate(remove_digits)\n",
    "# res = res.translate(remove_punt)\n",
    "res[0:360]"
   ]
  },
  {
   "cell_type": "code",
   "execution_count": 13,
   "metadata": {},
   "outputs": [],
   "source": [
    "# import nltk\n",
    "# allWords = nltk.tokenize.word_tokenize(lang_full_corpus)\n",
    "# allWordDist = nltk.FreqDist(w.lower() for w in allWords)\n",
    "# mostCommon= allWordDist.most_common(100)"
   ]
  },
  {
   "cell_type": "code",
   "execution_count": 14,
   "metadata": {},
   "outputs": [
    {
     "data": {
      "text/plain": [
       "[14, 76, 1, 2, 12, 1, 25, 2, 14, 73]"
      ]
     },
     "execution_count": 14,
     "metadata": {},
     "output_type": "execute_result"
    }
   ],
   "source": [
    "tokenizer = Tokenizer()\n",
    "tokenizer.fit_on_texts([res])\n",
    "\n",
    "pickle.dump(tokenizer, open('tokenizer1.pkl', 'wb'))\n",
    "\n",
    "sequence_data = tokenizer.texts_to_sequences([res])[0]\n",
    "sequence_data[:10]"
   ]
  },
  {
   "cell_type": "code",
   "execution_count": 15,
   "metadata": {},
   "outputs": [
    {
     "name": "stdout",
     "output_type": "stream",
     "text": [
      "765\n"
     ]
    }
   ],
   "source": [
    "vocab_size = len(tokenizer.word_index) + 1\n",
    "print(vocab_size)"
   ]
  },
  {
   "cell_type": "code",
   "execution_count": 16,
   "metadata": {},
   "outputs": [
    {
     "name": "stdout",
     "output_type": "stream",
     "text": [
      "The Length of sequences are:  15465\n"
     ]
    },
    {
     "data": {
      "text/plain": [
       "array([[14, 76],\n",
       "       [76,  1],\n",
       "       [ 1,  2],\n",
       "       [ 2, 12],\n",
       "       [12,  1],\n",
       "       [ 1, 25],\n",
       "       [25,  2],\n",
       "       [ 2, 14],\n",
       "       [14, 73],\n",
       "       [73,  1]])"
      ]
     },
     "execution_count": 16,
     "metadata": {},
     "output_type": "execute_result"
    }
   ],
   "source": [
    "sequences = []\n",
    "\n",
    "for i in range(1, len(sequence_data)):\n",
    "    words = sequence_data[i-1:i+1]\n",
    "    sequences.append(words)\n",
    "    \n",
    "print(\"The Length of sequences are: \", len(sequences))\n",
    "sequences = np.array(sequences)\n",
    "sequences[:10]"
   ]
  },
  {
   "cell_type": "code",
   "execution_count": 17,
   "metadata": {},
   "outputs": [],
   "source": [
    "X = []\n",
    "y = []\n",
    "\n",
    "for i in sequences:\n",
    "    X.append(i[0])\n",
    "    y.append(i[1])\n",
    "    \n",
    "X = np.array(X)\n",
    "y = np.array(y)"
   ]
  },
  {
   "cell_type": "code",
   "execution_count": 18,
   "metadata": {},
   "outputs": [
    {
     "name": "stdout",
     "output_type": "stream",
     "text": [
      "The Data is:  [14 76  1  2 12]\n",
      "The responses are:  [76  1  2 12  1]\n"
     ]
    }
   ],
   "source": [
    "print(\"The Data is: \", X[:5])\n",
    "print(\"The responses are: \", y[:5])"
   ]
  },
  {
   "cell_type": "code",
   "execution_count": 19,
   "metadata": {},
   "outputs": [
    {
     "data": {
      "text/plain": [
       "array([[0., 0., 0., ..., 0., 0., 0.],\n",
       "       [0., 1., 0., ..., 0., 0., 0.],\n",
       "       [0., 0., 1., ..., 0., 0., 0.],\n",
       "       [0., 0., 0., ..., 0., 0., 0.],\n",
       "       [0., 1., 0., ..., 0., 0., 0.]], dtype=float32)"
      ]
     },
     "execution_count": 19,
     "metadata": {},
     "output_type": "execute_result"
    }
   ],
   "source": [
    "y = to_categorical(y, num_classes=vocab_size)\n",
    "y[:5]"
   ]
  },
  {
   "cell_type": "code",
   "execution_count": 21,
   "metadata": {},
   "outputs": [],
   "source": [
    "model = Sequential()\n",
    "model.add(Embedding(vocab_size, 10, input_length=1))\n",
    "model.add(LSTM(1000, return_sequences=True))\n",
    "model.add(LSTM(1000))\n",
    "model.add(Dense(1000, activation=\"relu\"))\n",
    "model.add(Dense(vocab_size, activation=\"softmax\"))"
   ]
  },
  {
   "cell_type": "code",
   "execution_count": 22,
   "metadata": {},
   "outputs": [
    {
     "name": "stdout",
     "output_type": "stream",
     "text": [
      "Model: \"sequential_1\"\n",
      "_________________________________________________________________\n",
      "Layer (type)                 Output Shape              Param #   \n",
      "=================================================================\n",
      "embedding_1 (Embedding)      (None, 1, 10)             7650      \n",
      "_________________________________________________________________\n",
      "lstm_2 (LSTM)                (None, 1, 1000)           4044000   \n",
      "_________________________________________________________________\n",
      "lstm_3 (LSTM)                (None, 1000)              8004000   \n",
      "_________________________________________________________________\n",
      "dense_2 (Dense)              (None, 1000)              1001000   \n",
      "_________________________________________________________________\n",
      "dense_3 (Dense)              (None, 765)               765765    \n",
      "=================================================================\n",
      "Total params: 13,822,415\n",
      "Trainable params: 13,822,415\n",
      "Non-trainable params: 0\n",
      "_________________________________________________________________\n"
     ]
    }
   ],
   "source": [
    "model.summary()"
   ]
  },
  {
   "cell_type": "code",
   "execution_count": 26,
   "metadata": {},
   "outputs": [],
   "source": [
    "# from tensorflow.keras.utils.vis_utils import plot_model\n",
    "\n",
    "# plot_model(model, to_file='model.png', show_layer_names=True)"
   ]
  },
  {
   "cell_type": "code",
   "execution_count": 27,
   "metadata": {},
   "outputs": [],
   "source": [
    "from tensorflow.keras.callbacks import ModelCheckpoint\n",
    "from tensorflow.keras.callbacks import ReduceLROnPlateau\n",
    "from tensorflow.keras.callbacks import TensorBoard\n",
    "\n",
    "checkpoint = ModelCheckpoint(\"nextword1.h5\", monitor='loss', verbose=1,\n",
    "    save_best_only=True, mode='auto')\n",
    "\n",
    "reduce = ReduceLROnPlateau(monitor='loss', factor=0.2, patience=3, min_lr=0.0001, verbose = 1)\n",
    "\n",
    "logdir='logsnextword1'\n",
    "tensorboard_Visualization = TensorBoard(log_dir=logdir)"
   ]
  },
  {
   "cell_type": "code",
   "execution_count": 28,
   "metadata": {},
   "outputs": [],
   "source": [
    "model.compile(loss=\"categorical_crossentropy\", optimizer=Adam(lr=0.001))"
   ]
  },
  {
   "cell_type": "code",
   "execution_count": 29,
   "metadata": {},
   "outputs": [
    {
     "name": "stdout",
     "output_type": "stream",
     "text": [
      "Epoch 1/150\n",
      "242/242 [==============================] - 8s 18ms/step - loss: 5.2754\n",
      "\n",
      "Epoch 00001: loss improved from inf to 4.91015, saving model to nextword1.h5\n",
      "Epoch 2/150\n",
      "242/242 [==============================] - 4s 17ms/step - loss: 4.6190\n",
      "\n",
      "Epoch 00002: loss improved from 4.91015 to 4.54270, saving model to nextword1.h5\n",
      "Epoch 3/150\n",
      "242/242 [==============================] - 4s 17ms/step - loss: 4.2846\n",
      "\n",
      "Epoch 00003: loss improved from 4.54270 to 4.23619, saving model to nextword1.h5\n",
      "Epoch 4/150\n",
      "242/242 [==============================] - 4s 17ms/step - loss: 4.0627\n",
      "\n",
      "Epoch 00004: loss improved from 4.23619 to 4.03522, saving model to nextword1.h5\n",
      "Epoch 5/150\n",
      "242/242 [==============================] - 4s 17ms/step - loss: 3.8449\n",
      "\n",
      "Epoch 00005: loss improved from 4.03522 to 3.84579, saving model to nextword1.h5\n",
      "Epoch 6/150\n",
      "242/242 [==============================] - 4s 17ms/step - loss: 3.7153\n",
      "\n",
      "Epoch 00006: loss improved from 3.84579 to 3.69185, saving model to nextword1.h5\n",
      "Epoch 7/150\n",
      "242/242 [==============================] - 4s 17ms/step - loss: 3.5740\n",
      "\n",
      "Epoch 00007: loss improved from 3.69185 to 3.56718, saving model to nextword1.h5\n",
      "Epoch 8/150\n",
      "242/242 [==============================] - 4s 17ms/step - loss: 3.4705\n",
      "\n",
      "Epoch 00008: loss improved from 3.56718 to 3.47351, saving model to nextword1.h5\n",
      "Epoch 9/150\n",
      "242/242 [==============================] - 4s 17ms/step - loss: 3.3647\n",
      "\n",
      "Epoch 00009: loss improved from 3.47351 to 3.39259, saving model to nextword1.h5\n",
      "Epoch 10/150\n",
      "242/242 [==============================] - 4s 17ms/step - loss: 3.2835\n",
      "\n",
      "Epoch 00010: loss improved from 3.39259 to 3.32553, saving model to nextword1.h5\n",
      "Epoch 11/150\n",
      "242/242 [==============================] - 4s 17ms/step - loss: 3.2331\n",
      "\n",
      "Epoch 00011: loss improved from 3.32553 to 3.25879, saving model to nextword1.h5\n",
      "Epoch 12/150\n",
      "242/242 [==============================] - 4s 17ms/step - loss: 3.1856\n",
      "\n",
      "Epoch 00012: loss improved from 3.25879 to 3.20735, saving model to nextword1.h5\n",
      "Epoch 13/150\n",
      "242/242 [==============================] - 4s 17ms/step - loss: 3.1338\n",
      "\n",
      "Epoch 00013: loss improved from 3.20735 to 3.15815, saving model to nextword1.h5\n",
      "Epoch 14/150\n",
      "242/242 [==============================] - 4s 17ms/step - loss: 3.0647\n",
      "\n",
      "Epoch 00014: loss improved from 3.15815 to 3.11531, saving model to nextword1.h5\n",
      "Epoch 15/150\n",
      "242/242 [==============================] - 4s 17ms/step - loss: 3.0695\n",
      "\n",
      "Epoch 00015: loss improved from 3.11531 to 3.07467, saving model to nextword1.h5\n",
      "Epoch 16/150\n",
      "242/242 [==============================] - 4s 17ms/step - loss: 3.0040\n",
      "\n",
      "Epoch 00016: loss improved from 3.07467 to 3.03721, saving model to nextword1.h5\n",
      "Epoch 17/150\n",
      "242/242 [==============================] - 4s 17ms/step - loss: 2.9741\n",
      "\n",
      "Epoch 00017: loss improved from 3.03721 to 3.00426, saving model to nextword1.h5\n",
      "Epoch 18/150\n",
      "242/242 [==============================] - 4s 17ms/step - loss: 2.9391\n",
      "\n",
      "Epoch 00018: loss improved from 3.00426 to 2.97401, saving model to nextword1.h5\n",
      "Epoch 19/150\n",
      "242/242 [==============================] - 4s 17ms/step - loss: 2.9411\n",
      "\n",
      "Epoch 00019: loss improved from 2.97401 to 2.94703, saving model to nextword1.h5\n",
      "Epoch 20/150\n",
      "242/242 [==============================] - 4s 17ms/step - loss: 2.8729\n",
      "\n",
      "Epoch 00020: loss improved from 2.94703 to 2.92194, saving model to nextword1.h5\n",
      "Epoch 21/150\n",
      "242/242 [==============================] - 4s 17ms/step - loss: 2.8897\n",
      "\n",
      "Epoch 00021: loss improved from 2.92194 to 2.89751, saving model to nextword1.h5\n",
      "Epoch 22/150\n",
      "242/242 [==============================] - 4s 17ms/step - loss: 2.8481\n",
      "\n",
      "Epoch 00022: loss improved from 2.89751 to 2.87906, saving model to nextword1.h5\n",
      "Epoch 23/150\n",
      "242/242 [==============================] - 4s 17ms/step - loss: 2.8466\n",
      "\n",
      "Epoch 00023: loss improved from 2.87906 to 2.85913, saving model to nextword1.h5\n",
      "Epoch 24/150\n",
      "242/242 [==============================] - 4s 17ms/step - loss: 2.8110\n",
      "\n",
      "Epoch 00024: loss improved from 2.85913 to 2.84078, saving model to nextword1.h5\n",
      "Epoch 25/150\n",
      "242/242 [==============================] - 4s 17ms/step - loss: 2.7922\n",
      "\n",
      "Epoch 00025: loss improved from 2.84078 to 2.82010, saving model to nextword1.h5\n",
      "Epoch 26/150\n",
      "242/242 [==============================] - 4s 17ms/step - loss: 2.7693\n",
      "\n",
      "Epoch 00026: loss improved from 2.82010 to 2.80812, saving model to nextword1.h5\n",
      "Epoch 27/150\n",
      "242/242 [==============================] - 4s 17ms/step - loss: 2.7359\n",
      "\n",
      "Epoch 00027: loss improved from 2.80812 to 2.78937, saving model to nextword1.h5\n",
      "Epoch 28/150\n",
      "242/242 [==============================] - 4s 17ms/step - loss: 2.7496\n",
      "\n",
      "Epoch 00028: loss improved from 2.78937 to 2.78057, saving model to nextword1.h5\n",
      "Epoch 29/150\n",
      "242/242 [==============================] - 4s 17ms/step - loss: 2.7354\n",
      "\n",
      "Epoch 00029: loss improved from 2.78057 to 2.76849, saving model to nextword1.h5\n",
      "Epoch 30/150\n",
      "242/242 [==============================] - 4s 17ms/step - loss: 2.7461\n",
      "\n",
      "Epoch 00030: loss improved from 2.76849 to 2.76095, saving model to nextword1.h5\n",
      "Epoch 31/150\n",
      "242/242 [==============================] - 4s 17ms/step - loss: 2.7258\n",
      "\n",
      "Epoch 00031: loss improved from 2.76095 to 2.75110, saving model to nextword1.h5\n",
      "Epoch 32/150\n",
      "242/242 [==============================] - 4s 17ms/step - loss: 2.6903\n",
      "\n",
      "Epoch 00032: loss improved from 2.75110 to 2.74135, saving model to nextword1.h5\n",
      "Epoch 33/150\n",
      "242/242 [==============================] - 4s 17ms/step - loss: 2.7078\n",
      "\n",
      "Epoch 00033: loss improved from 2.74135 to 2.73271, saving model to nextword1.h5\n",
      "Epoch 34/150\n",
      "242/242 [==============================] - 4s 17ms/step - loss: 2.6838\n",
      "\n",
      "Epoch 00034: loss improved from 2.73271 to 2.72654, saving model to nextword1.h5\n",
      "Epoch 35/150\n",
      "242/242 [==============================] - 4s 17ms/step - loss: 2.6670\n",
      "\n",
      "Epoch 00035: loss improved from 2.72654 to 2.71689, saving model to nextword1.h5\n",
      "Epoch 36/150\n",
      "242/242 [==============================] - 4s 17ms/step - loss: 2.6998\n",
      "\n",
      "Epoch 00036: loss improved from 2.71689 to 2.71438, saving model to nextword1.h5\n",
      "Epoch 37/150\n",
      "242/242 [==============================] - 4s 17ms/step - loss: 2.6707\n",
      "\n",
      "Epoch 00037: loss improved from 2.71438 to 2.70376, saving model to nextword1.h5\n",
      "Epoch 38/150\n",
      "242/242 [==============================] - 4s 17ms/step - loss: 2.6672\n",
      "\n",
      "Epoch 00038: loss improved from 2.70376 to 2.70193, saving model to nextword1.h5\n",
      "Epoch 39/150\n",
      "242/242 [==============================] - 4s 17ms/step - loss: 2.6551\n",
      "\n",
      "Epoch 00039: loss improved from 2.70193 to 2.69582, saving model to nextword1.h5\n",
      "Epoch 40/150\n",
      "242/242 [==============================] - 4s 17ms/step - loss: 2.6781\n",
      "\n",
      "Epoch 00040: loss improved from 2.69582 to 2.68936, saving model to nextword1.h5\n",
      "Epoch 41/150\n",
      "242/242 [==============================] - 4s 17ms/step - loss: 2.6666\n",
      "\n",
      "Epoch 00041: loss did not improve from 2.68936\n",
      "Epoch 42/150\n",
      "242/242 [==============================] - 4s 17ms/step - loss: 2.6427\n",
      "\n",
      "Epoch 00042: loss improved from 2.68936 to 2.68103, saving model to nextword1.h5\n",
      "Epoch 43/150\n",
      "242/242 [==============================] - 4s 17ms/step - loss: 2.6364\n",
      "\n",
      "Epoch 00043: loss improved from 2.68103 to 2.67657, saving model to nextword1.h5\n",
      "Epoch 44/150\n",
      "242/242 [==============================] - 4s 17ms/step - loss: 2.6529\n",
      "\n",
      "Epoch 00044: loss improved from 2.67657 to 2.67335, saving model to nextword1.h5\n",
      "Epoch 45/150\n",
      "242/242 [==============================] - 4s 17ms/step - loss: 2.6319\n",
      "\n",
      "Epoch 00045: loss improved from 2.67335 to 2.66601, saving model to nextword1.h5\n",
      "Epoch 46/150\n",
      "242/242 [==============================] - 4s 17ms/step - loss: 2.6430\n",
      "\n",
      "Epoch 00046: loss improved from 2.66601 to 2.66537, saving model to nextword1.h5\n",
      "Epoch 47/150\n",
      "242/242 [==============================] - 4s 17ms/step - loss: 2.6183\n",
      "\n",
      "Epoch 00047: loss improved from 2.66537 to 2.66091, saving model to nextword1.h5\n",
      "Epoch 48/150\n",
      "242/242 [==============================] - 4s 17ms/step - loss: 2.6071\n",
      "\n",
      "Epoch 00048: loss improved from 2.66091 to 2.65952, saving model to nextword1.h5\n",
      "Epoch 49/150\n",
      "242/242 [==============================] - 4s 17ms/step - loss: 2.6275\n",
      "\n",
      "Epoch 00049: loss improved from 2.65952 to 2.65528, saving model to nextword1.h5\n",
      "Epoch 50/150\n",
      "242/242 [==============================] - 4s 17ms/step - loss: 2.6147\n",
      "\n",
      "Epoch 00050: loss improved from 2.65528 to 2.65339, saving model to nextword1.h5\n",
      "Epoch 51/150\n",
      "242/242 [==============================] - 4s 17ms/step - loss: 2.6118\n",
      "\n",
      "Epoch 00051: loss improved from 2.65339 to 2.65130, saving model to nextword1.h5\n",
      "Epoch 52/150\n",
      "242/242 [==============================] - 4s 17ms/step - loss: 2.6339\n",
      "\n",
      "Epoch 00052: loss improved from 2.65130 to 2.64767, saving model to nextword1.h5\n",
      "Epoch 53/150\n",
      "242/242 [==============================] - 4s 17ms/step - loss: 2.6007\n",
      "\n",
      "Epoch 00053: loss improved from 2.64767 to 2.64403, saving model to nextword1.h5\n",
      "Epoch 54/150\n",
      "242/242 [==============================] - 4s 17ms/step - loss: 2.6023\n",
      "\n",
      "Epoch 00054: loss improved from 2.64403 to 2.64074, saving model to nextword1.h5\n",
      "Epoch 55/150\n",
      "242/242 [==============================] - 4s 17ms/step - loss: 2.6072\n",
      "\n",
      "Epoch 00055: loss improved from 2.64074 to 2.63797, saving model to nextword1.h5\n",
      "Epoch 56/150\n",
      "242/242 [==============================] - 4s 17ms/step - loss: 2.6310\n",
      "\n",
      "Epoch 00056: loss did not improve from 2.63797\n",
      "Epoch 57/150\n",
      "242/242 [==============================] - 4s 17ms/step - loss: 2.6034\n",
      "\n",
      "Epoch 00057: loss improved from 2.63797 to 2.63635, saving model to nextword1.h5\n",
      "Epoch 58/150\n",
      "242/242 [==============================] - 4s 17ms/step - loss: 2.6051\n",
      "\n",
      "Epoch 00058: loss improved from 2.63635 to 2.63230, saving model to nextword1.h5\n",
      "Epoch 59/150\n",
      "242/242 [==============================] - 4s 17ms/step - loss: 2.6075\n",
      "\n",
      "Epoch 00059: loss did not improve from 2.63230\n",
      "Epoch 60/150\n",
      "242/242 [==============================] - 4s 17ms/step - loss: 2.5966\n",
      "\n",
      "Epoch 00060: loss improved from 2.63230 to 2.62693, saving model to nextword1.h5\n",
      "Epoch 61/150\n",
      "242/242 [==============================] - 4s 17ms/step - loss: 2.6212\n",
      "\n",
      "Epoch 00061: loss improved from 2.62693 to 2.62651, saving model to nextword1.h5\n",
      "Epoch 62/150\n",
      "242/242 [==============================] - 4s 17ms/step - loss: 2.5876\n",
      "\n",
      "Epoch 00062: loss improved from 2.62651 to 2.62315, saving model to nextword1.h5\n",
      "Epoch 63/150\n",
      "242/242 [==============================] - 4s 17ms/step - loss: 2.5884\n",
      "\n",
      "Epoch 00063: loss did not improve from 2.62315\n",
      "Epoch 64/150\n",
      "242/242 [==============================] - 4s 17ms/step - loss: 2.6002\n",
      "\n",
      "Epoch 00064: loss improved from 2.62315 to 2.62021, saving model to nextword1.h5\n",
      "Epoch 65/150\n",
      "242/242 [==============================] - 4s 17ms/step - loss: 2.6056\n",
      "\n",
      "Epoch 00065: loss improved from 2.62021 to 2.61716, saving model to nextword1.h5\n",
      "Epoch 66/150\n",
      "242/242 [==============================] - 4s 17ms/step - loss: 2.5880\n",
      "\n",
      "Epoch 00066: loss improved from 2.61716 to 2.61702, saving model to nextword1.h5\n",
      "Epoch 67/150\n",
      "242/242 [==============================] - 4s 17ms/step - loss: 2.6048\n",
      "\n",
      "Epoch 00067: loss did not improve from 2.61702\n",
      "Epoch 68/150\n",
      "242/242 [==============================] - 4s 17ms/step - loss: 2.5938\n",
      "\n",
      "Epoch 00068: loss improved from 2.61702 to 2.61417, saving model to nextword1.h5\n",
      "Epoch 69/150\n",
      "242/242 [==============================] - 4s 17ms/step - loss: 2.5741\n",
      "\n",
      "Epoch 00069: loss improved from 2.61417 to 2.61269, saving model to nextword1.h5\n",
      "Epoch 70/150\n",
      "242/242 [==============================] - 4s 17ms/step - loss: 2.6063\n",
      "\n",
      "Epoch 00070: loss improved from 2.61269 to 2.61102, saving model to nextword1.h5\n",
      "Epoch 71/150\n",
      "242/242 [==============================] - 4s 17ms/step - loss: 2.5715\n",
      "\n",
      "Epoch 00071: loss improved from 2.61102 to 2.60826, saving model to nextword1.h5\n",
      "Epoch 72/150\n",
      "242/242 [==============================] - 4s 17ms/step - loss: 2.5894\n",
      "\n",
      "Epoch 00072: loss improved from 2.60826 to 2.60740, saving model to nextword1.h5\n",
      "Epoch 73/150\n",
      "242/242 [==============================] - 4s 17ms/step - loss: 2.5704\n",
      "\n",
      "Epoch 00073: loss did not improve from 2.60740\n",
      "Epoch 74/150\n",
      "242/242 [==============================] - 4s 17ms/step - loss: 2.5784\n",
      "\n",
      "Epoch 00074: loss improved from 2.60740 to 2.60477, saving model to nextword1.h5\n",
      "Epoch 75/150\n",
      "242/242 [==============================] - 4s 17ms/step - loss: 2.5859\n",
      "\n",
      "Epoch 00075: loss did not improve from 2.60477\n",
      "Epoch 76/150\n",
      "242/242 [==============================] - 4s 17ms/step - loss: 2.5550\n",
      "\n",
      "Epoch 00076: loss improved from 2.60477 to 2.60339, saving model to nextword1.h5\n",
      "Epoch 77/150\n",
      "242/242 [==============================] - 4s 17ms/step - loss: 2.5699\n",
      "\n",
      "Epoch 00077: loss improved from 2.60339 to 2.60286, saving model to nextword1.h5\n",
      "Epoch 78/150\n",
      "242/242 [==============================] - 4s 17ms/step - loss: 2.5718\n",
      "\n",
      "Epoch 00078: loss improved from 2.60286 to 2.60086, saving model to nextword1.h5\n",
      "Epoch 79/150\n",
      "242/242 [==============================] - 4s 17ms/step - loss: 2.5769\n",
      "\n",
      "Epoch 00079: loss improved from 2.60086 to 2.59923, saving model to nextword1.h5\n",
      "Epoch 80/150\n",
      "242/242 [==============================] - 4s 17ms/step - loss: 2.5655\n",
      "\n",
      "Epoch 00080: loss did not improve from 2.59923\n",
      "Epoch 81/150\n",
      "242/242 [==============================] - 4s 17ms/step - loss: 2.5625\n",
      "\n",
      "Epoch 00081: loss improved from 2.59923 to 2.59804, saving model to nextword1.h5\n",
      "Epoch 82/150\n",
      "242/242 [==============================] - 4s 17ms/step - loss: 2.5629\n",
      "\n",
      "Epoch 00082: loss improved from 2.59804 to 2.59575, saving model to nextword1.h5\n",
      "Epoch 83/150\n",
      "242/242 [==============================] - 4s 17ms/step - loss: 2.5828\n",
      "\n",
      "Epoch 00083: loss improved from 2.59575 to 2.59352, saving model to nextword1.h5\n",
      "Epoch 84/150\n",
      "242/242 [==============================] - 4s 17ms/step - loss: 2.5507\n",
      "\n",
      "Epoch 00084: loss did not improve from 2.59352\n",
      "Epoch 85/150\n",
      "242/242 [==============================] - 4s 17ms/step - loss: 2.5736\n",
      "\n",
      "Epoch 00085: loss improved from 2.59352 to 2.59198, saving model to nextword1.h5\n",
      "Epoch 86/150\n",
      "242/242 [==============================] - 4s 17ms/step - loss: 2.5663\n",
      "\n",
      "Epoch 00086: loss did not improve from 2.59198\n",
      "Epoch 87/150\n",
      "242/242 [==============================] - 4s 17ms/step - loss: 2.5684\n",
      "\n",
      "Epoch 00087: loss improved from 2.59198 to 2.59116, saving model to nextword1.h5\n",
      "Epoch 88/150\n",
      "242/242 [==============================] - 4s 17ms/step - loss: 2.5660\n",
      "\n",
      "Epoch 00088: loss improved from 2.59116 to 2.59017, saving model to nextword1.h5\n",
      "Epoch 89/150\n",
      "242/242 [==============================] - 4s 17ms/step - loss: 2.5593\n",
      "\n",
      "Epoch 00089: loss improved from 2.59017 to 2.58812, saving model to nextword1.h5\n",
      "Epoch 90/150\n",
      "242/242 [==============================] - 4s 17ms/step - loss: 2.5650\n",
      "\n",
      "Epoch 00090: loss did not improve from 2.58812\n",
      "Epoch 91/150\n",
      "242/242 [==============================] - 4s 18ms/step - loss: 2.5698\n",
      "\n",
      "Epoch 00091: loss improved from 2.58812 to 2.58641, saving model to nextword1.h5\n",
      "Epoch 92/150\n",
      "242/242 [==============================] - 4s 17ms/step - loss: 2.5710\n",
      "\n",
      "Epoch 00092: loss did not improve from 2.58641\n",
      "Epoch 93/150\n",
      "242/242 [==============================] - 4s 17ms/step - loss: 2.5553\n",
      "\n",
      "Epoch 00093: loss improved from 2.58641 to 2.58602, saving model to nextword1.h5\n",
      "Epoch 94/150\n",
      "242/242 [==============================] - 4s 17ms/step - loss: 2.5589\n",
      "\n",
      "Epoch 00094: loss improved from 2.58602 to 2.58516, saving model to nextword1.h5\n",
      "Epoch 95/150\n",
      "242/242 [==============================] - 4s 17ms/step - loss: 2.5581\n",
      "\n",
      "Epoch 00095: loss improved from 2.58516 to 2.58373, saving model to nextword1.h5\n",
      "Epoch 96/150\n",
      "242/242 [==============================] - 4s 17ms/step - loss: 2.5568\n",
      "\n",
      "Epoch 00096: loss did not improve from 2.58373\n",
      "Epoch 97/150\n",
      "242/242 [==============================] - 4s 17ms/step - loss: 2.5752\n",
      "\n",
      "Epoch 00097: loss did not improve from 2.58373\n",
      "Epoch 98/150\n",
      "242/242 [==============================] - 4s 17ms/step - loss: 2.5578\n",
      "\n",
      "Epoch 00098: loss improved from 2.58373 to 2.58233, saving model to nextword1.h5\n",
      "Epoch 99/150\n",
      "242/242 [==============================] - 4s 17ms/step - loss: 2.5499\n",
      "\n",
      "Epoch 00099: loss improved from 2.58233 to 2.58164, saving model to nextword1.h5\n",
      "Epoch 100/150\n",
      "242/242 [==============================] - 4s 17ms/step - loss: 2.5447\n",
      "\n",
      "Epoch 00100: loss did not improve from 2.58164\n",
      "Epoch 101/150\n",
      "242/242 [==============================] - 4s 17ms/step - loss: 2.5470\n",
      "\n",
      "Epoch 00101: loss improved from 2.58164 to 2.58082, saving model to nextword1.h5\n",
      "Epoch 102/150\n",
      "242/242 [==============================] - 4s 17ms/step - loss: 2.5773\n",
      "\n",
      "Epoch 00102: loss improved from 2.58082 to 2.57810, saving model to nextword1.h5\n",
      "Epoch 103/150\n",
      "242/242 [==============================] - 4s 17ms/step - loss: 2.5679\n",
      "\n",
      "Epoch 00103: loss improved from 2.57810 to 2.57803, saving model to nextword1.h5\n",
      "Epoch 104/150\n",
      "242/242 [==============================] - 4s 17ms/step - loss: 2.5611\n",
      "\n",
      "Epoch 00104: loss did not improve from 2.57803\n",
      "Epoch 105/150\n",
      "242/242 [==============================] - 4s 17ms/step - loss: 2.5536\n",
      "\n",
      "Epoch 00105: loss did not improve from 2.57803\n",
      "\n",
      "Epoch 00105: ReduceLROnPlateau reducing learning rate to 0.00020000000949949026.\n",
      "Epoch 106/150\n",
      "242/242 [==============================] - 4s 17ms/step - loss: 2.5430\n",
      "\n",
      "Epoch 00106: loss improved from 2.57803 to 2.53064, saving model to nextword1.h5\n",
      "Epoch 107/150\n",
      "242/242 [==============================] - 4s 17ms/step - loss: 2.5216\n",
      "\n",
      "Epoch 00107: loss improved from 2.53064 to 2.52646, saving model to nextword1.h5\n",
      "Epoch 108/150\n",
      "242/242 [==============================] - 4s 17ms/step - loss: 2.5365\n",
      "\n",
      "Epoch 00108: loss improved from 2.52646 to 2.52551, saving model to nextword1.h5\n",
      "Epoch 109/150\n",
      "242/242 [==============================] - 4s 17ms/step - loss: 2.5274\n",
      "\n",
      "Epoch 00109: loss improved from 2.52551 to 2.52491, saving model to nextword1.h5\n",
      "Epoch 110/150\n",
      "242/242 [==============================] - 4s 17ms/step - loss: 2.5027\n",
      "\n",
      "Epoch 00110: loss improved from 2.52491 to 2.52424, saving model to nextword1.h5\n",
      "Epoch 111/150\n",
      "242/242 [==============================] - 4s 17ms/step - loss: 2.5136\n",
      "\n",
      "Epoch 00111: loss did not improve from 2.52424\n",
      "Epoch 112/150\n",
      "242/242 [==============================] - 4s 17ms/step - loss: 2.5132\n",
      "\n",
      "Epoch 00112: loss improved from 2.52424 to 2.52383, saving model to nextword1.h5\n",
      "Epoch 113/150\n",
      "242/242 [==============================] - 4s 17ms/step - loss: 2.5345\n",
      "\n",
      "Epoch 00113: loss improved from 2.52383 to 2.52361, saving model to nextword1.h5\n",
      "Epoch 114/150\n",
      "242/242 [==============================] - 4s 17ms/step - loss: 2.5184\n",
      "\n",
      "Epoch 00114: loss improved from 2.52361 to 2.52320, saving model to nextword1.h5\n",
      "Epoch 115/150\n",
      "242/242 [==============================] - 4s 17ms/step - loss: 2.4810\n",
      "\n",
      "Epoch 00115: loss did not improve from 2.52320\n",
      "Epoch 116/150\n",
      "242/242 [==============================] - 4s 17ms/step - loss: 2.5111\n",
      "\n",
      "Epoch 00116: loss improved from 2.52320 to 2.52309, saving model to nextword1.h5\n",
      "Epoch 117/150\n",
      "242/242 [==============================] - 4s 17ms/step - loss: 2.5059\n",
      "\n",
      "Epoch 00117: loss did not improve from 2.52309\n",
      "Epoch 118/150\n",
      "242/242 [==============================] - 4s 17ms/step - loss: 2.5282\n",
      "\n",
      "Epoch 00118: loss improved from 2.52309 to 2.52279, saving model to nextword1.h5\n",
      "Epoch 119/150\n",
      "242/242 [==============================] - 4s 17ms/step - loss: 2.5270\n",
      "\n",
      "Epoch 00119: loss improved from 2.52279 to 2.52276, saving model to nextword1.h5\n",
      "Epoch 120/150\n",
      "242/242 [==============================] - 4s 17ms/step - loss: 2.5263\n",
      "\n",
      "Epoch 00120: loss improved from 2.52276 to 2.52249, saving model to nextword1.h5\n",
      "Epoch 121/150\n",
      "242/242 [==============================] - 4s 17ms/step - loss: 2.5151\n",
      "\n",
      "Epoch 00121: loss did not improve from 2.52249\n",
      "Epoch 122/150\n",
      "242/242 [==============================] - 4s 17ms/step - loss: 2.5236\n",
      "\n",
      "Epoch 00122: loss improved from 2.52249 to 2.52221, saving model to nextword1.h5\n",
      "Epoch 123/150\n",
      "242/242 [==============================] - 4s 17ms/step - loss: 2.5215\n",
      "\n",
      "Epoch 00123: loss improved from 2.52221 to 2.52185, saving model to nextword1.h5\n",
      "Epoch 124/150\n",
      "242/242 [==============================] - 4s 17ms/step - loss: 2.5039\n",
      "\n",
      "Epoch 00124: loss improved from 2.52185 to 2.52181, saving model to nextword1.h5\n",
      "Epoch 125/150\n",
      "242/242 [==============================] - 4s 17ms/step - loss: 2.5047\n",
      "\n",
      "Epoch 00125: loss did not improve from 2.52181\n",
      "Epoch 126/150\n",
      "242/242 [==============================] - 4s 17ms/step - loss: 2.4939\n",
      "\n",
      "Epoch 00126: loss did not improve from 2.52181\n",
      "\n",
      "Epoch 00126: ReduceLROnPlateau reducing learning rate to 0.0001.\n",
      "Epoch 127/150\n",
      "242/242 [==============================] - 4s 17ms/step - loss: 2.4973\n",
      "\n",
      "Epoch 00127: loss improved from 2.52181 to 2.51389, saving model to nextword1.h5\n",
      "Epoch 128/150\n",
      "242/242 [==============================] - 4s 17ms/step - loss: 2.5013\n",
      "\n",
      "Epoch 00128: loss improved from 2.51389 to 2.51350, saving model to nextword1.h5\n",
      "Epoch 129/150\n",
      "242/242 [==============================] - 4s 17ms/step - loss: 2.4896\n",
      "\n",
      "Epoch 00129: loss improved from 2.51350 to 2.51345, saving model to nextword1.h5\n",
      "Epoch 130/150\n",
      "242/242 [==============================] - 4s 17ms/step - loss: 2.5149\n",
      "\n",
      "Epoch 00130: loss improved from 2.51345 to 2.51339, saving model to nextword1.h5\n",
      "Epoch 131/150\n",
      "242/242 [==============================] - 4s 17ms/step - loss: 2.4909\n",
      "\n",
      "Epoch 00131: loss improved from 2.51339 to 2.51331, saving model to nextword1.h5\n",
      "Epoch 132/150\n",
      "242/242 [==============================] - 4s 17ms/step - loss: 2.5041\n",
      "\n",
      "Epoch 00132: loss improved from 2.51331 to 2.51302, saving model to nextword1.h5\n",
      "Epoch 133/150\n",
      "242/242 [==============================] - 4s 17ms/step - loss: 2.5255\n",
      "\n",
      "Epoch 00133: loss did not improve from 2.51302\n",
      "Epoch 134/150\n",
      "242/242 [==============================] - 4s 17ms/step - loss: 2.5073\n",
      "\n",
      "Epoch 00134: loss did not improve from 2.51302\n",
      "Epoch 135/150\n",
      "242/242 [==============================] - 4s 17ms/step - loss: 2.4943\n",
      "\n",
      "Epoch 00135: loss improved from 2.51302 to 2.51290, saving model to nextword1.h5\n",
      "Epoch 136/150\n",
      "242/242 [==============================] - 4s 17ms/step - loss: 2.5001\n",
      "\n",
      "Epoch 00136: loss did not improve from 2.51290\n",
      "Epoch 137/150\n",
      "242/242 [==============================] - 4s 17ms/step - loss: 2.5193\n",
      "\n",
      "Epoch 00137: loss improved from 2.51290 to 2.51289, saving model to nextword1.h5\n",
      "Epoch 138/150\n",
      "242/242 [==============================] - 4s 17ms/step - loss: 2.5030\n",
      "\n",
      "Epoch 00138: loss improved from 2.51289 to 2.51279, saving model to nextword1.h5\n",
      "Epoch 139/150\n",
      "242/242 [==============================] - 4s 17ms/step - loss: 2.5064\n",
      "\n",
      "Epoch 00139: loss did not improve from 2.51279\n",
      "Epoch 140/150\n",
      "242/242 [==============================] - 4s 17ms/step - loss: 2.5277\n",
      "\n",
      "Epoch 00140: loss improved from 2.51279 to 2.51255, saving model to nextword1.h5\n",
      "Epoch 141/150\n",
      "242/242 [==============================] - 4s 17ms/step - loss: 2.4979\n",
      "\n",
      "Epoch 00141: loss did not improve from 2.51255\n",
      "Epoch 142/150\n",
      "242/242 [==============================] - 4s 17ms/step - loss: 2.5067\n",
      "\n",
      "Epoch 00142: loss did not improve from 2.51255\n",
      "Epoch 143/150\n",
      "242/242 [==============================] - 4s 17ms/step - loss: 2.4852\n",
      "\n",
      "Epoch 00143: loss improved from 2.51255 to 2.51251, saving model to nextword1.h5\n",
      "Epoch 144/150\n",
      "242/242 [==============================] - 4s 17ms/step - loss: 2.5127\n",
      "\n",
      "Epoch 00144: loss improved from 2.51251 to 2.51243, saving model to nextword1.h5\n",
      "Epoch 145/150\n",
      "242/242 [==============================] - 4s 17ms/step - loss: 2.5361\n",
      "\n",
      "Epoch 00145: loss did not improve from 2.51243\n",
      "Epoch 146/150\n",
      "242/242 [==============================] - 4s 17ms/step - loss: 2.5060\n",
      "\n",
      "Epoch 00146: loss improved from 2.51243 to 2.51241, saving model to nextword1.h5\n",
      "Epoch 147/150\n",
      "242/242 [==============================] - 4s 17ms/step - loss: 2.5226\n",
      "\n",
      "Epoch 00147: loss improved from 2.51241 to 2.51228, saving model to nextword1.h5\n",
      "Epoch 148/150\n",
      "242/242 [==============================] - 4s 17ms/step - loss: 2.5212\n",
      "\n",
      "Epoch 00148: loss improved from 2.51228 to 2.51223, saving model to nextword1.h5\n",
      "Epoch 149/150\n",
      "242/242 [==============================] - 4s 17ms/step - loss: 2.5023\n",
      "\n",
      "Epoch 00149: loss did not improve from 2.51223\n",
      "Epoch 150/150\n",
      "242/242 [==============================] - 4s 17ms/step - loss: 2.5069\n",
      "\n",
      "Epoch 00150: loss did not improve from 2.51223\n"
     ]
    },
    {
     "data": {
      "text/plain": [
       "<tensorflow.python.keras.callbacks.History at 0x145a6d1cbc90>"
      ]
     },
     "execution_count": 29,
     "metadata": {},
     "output_type": "execute_result"
    }
   ],
   "source": [
    "model.fit(X, y, epochs=150, batch_size=64, callbacks=[checkpoint, reduce, tensorboard_Visualization])"
   ]
  },
  {
   "cell_type": "code",
   "execution_count": 32,
   "metadata": {},
   "outputs": [],
   "source": [
    "from tensorflow.keras.models import load_model\n",
    "model = load_model('nextword1.h5')\n",
    "tokenizer = pickle.load(open('tokenizer1.pkl', 'rb'))"
   ]
  },
  {
   "cell_type": "code",
   "execution_count": 33,
   "metadata": {},
   "outputs": [],
   "source": [
    "def Predict_Next_Words(model, tokenizer, text):\n",
    "    \"\"\"\n",
    "        In this function we are using the tokenizer and models trained\n",
    "        and we are creating the sequence of the text entered and then\n",
    "        using our model to predict and return the the predicted word.\n",
    "    \n",
    "    \"\"\"\n",
    "    for i in range(3):\n",
    "        sequence = tokenizer.texts_to_sequences([text])[0]\n",
    "        sequence = np.array(sequence)\n",
    "        \n",
    "        preds = model.predict_classes(sequence)\n",
    "#         print(preds)\n",
    "        predicted_word = \"\"\n",
    "        \n",
    "        for key, value in tokenizer.word_index.items():\n",
    "            if value == preds:\n",
    "                predicted_word = key\n",
    "                break\n",
    "        \n",
    "        print(predicted_word)\n",
    "        return predicted_word"
   ]
  },
  {
   "cell_type": "code",
   "execution_count": null,
   "metadata": {},
   "outputs": [
    {
     "name": "stdin",
     "output_type": "stream",
     "text": [
      "Enter your line:  raw_input\n"
     ]
    },
    {
     "name": "stderr",
     "output_type": "stream",
     "text": [
      "/home/rgoli/.local/lib/python3.7/site-packages/tensorflow/python/keras/engine/sequential.py:450: UserWarning: `model.predict_classes()` is deprecated and will be removed after 2021-01-01. Please use instead:* `np.argmax(model.predict(x), axis=-1)`,   if your model does multi-class classification   (e.g. if it uses a `softmax` last-layer activation).* `(model.predict(x) > 0.5).astype(\"int32\")`,   if your model does binary classification   (e.g. if it uses a `sigmoid` last-layer activation).\n",
      "  warnings.warn('`model.predict_classes()` is deprecated and '\n"
     ]
    },
    {
     "name": "stdin",
     "output_type": "stream",
     "text": [
      "Enter your line:  input\n"
     ]
    },
    {
     "name": "stdout",
     "output_type": "stream",
     "text": [
      "split\n"
     ]
    },
    {
     "name": "stdin",
     "output_type": "stream",
     "text": [
      "Enter your line:  map\n"
     ]
    },
    {
     "name": "stdout",
     "output_type": "stream",
     "text": [
      "int\n"
     ]
    },
    {
     "name": "stdin",
     "output_type": "stream",
     "text": [
      "Enter your line:  =\n",
      "Enter your line:  if\n"
     ]
    },
    {
     "name": "stdout",
     "output_type": "stream",
     "text": [
      "x\n"
     ]
    },
    {
     "name": "stdin",
     "output_type": "stream",
     "text": [
      "Enter your line:  else\n"
     ]
    },
    {
     "name": "stdout",
     "output_type": "stream",
     "text": [
      "return\n"
     ]
    },
    {
     "name": "stdin",
     "output_type": "stream",
     "text": [
      "Enter your line:  for\n"
     ]
    },
    {
     "name": "stdout",
     "output_type": "stream",
     "text": [
      "i\n"
     ]
    },
    {
     "name": "stdin",
     "output_type": "stream",
     "text": [
      "Enter your line:  range\n"
     ]
    },
    {
     "name": "stdout",
     "output_type": "stream",
     "text": [
      "for\n"
     ]
    },
    {
     "name": "stdin",
     "output_type": "stream",
     "text": [
      "Enter your line:  import\n"
     ]
    },
    {
     "name": "stdout",
     "output_type": "stream",
     "text": [
      "sysdef\n"
     ]
    },
    {
     "name": "stdin",
     "output_type": "stream",
     "text": [
      "Enter your line:  os\n",
      "Enter your line:  math\n"
     ]
    },
    {
     "name": "stdout",
     "output_type": "stream",
     "text": [
      "sqrt\n"
     ]
    },
    {
     "name": "stdin",
     "output_type": "stream",
     "text": [
      "Enter your line:  str.\n"
     ]
    },
    {
     "name": "stdout",
     "output_type": "stream",
     "text": [
      "data\n"
     ]
    },
    {
     "name": "stdin",
     "output_type": "stream",
     "text": [
      "Enter your line:  math.\n"
     ]
    },
    {
     "name": "stdout",
     "output_type": "stream",
     "text": [
      "sqrt\n"
     ]
    },
    {
     "name": "stdin",
     "output_type": "stream",
     "text": [
      "Enter your line:  range(\n"
     ]
    },
    {
     "name": "stdout",
     "output_type": "stream",
     "text": [
      "for\n"
     ]
    },
    {
     "name": "stdin",
     "output_type": "stream",
     "text": [
      "Enter your line:  for i in\n"
     ]
    },
    {
     "name": "stdout",
     "output_type": "stream",
     "text": [
      "range\n"
     ]
    },
    {
     "name": "stdin",
     "output_type": "stream",
     "text": [
      "Enter your line:  range(\n"
     ]
    },
    {
     "name": "stdout",
     "output_type": "stream",
     "text": [
      "for\n"
     ]
    },
    {
     "name": "stdin",
     "output_type": "stream",
     "text": [
      "Enter your line:  [[\n",
      "Enter your line:  [\n",
      "Enter your line:  list\n"
     ]
    },
    {
     "name": "stdout",
     "output_type": "stream",
     "text": [
      "points\n"
     ]
    },
    {
     "name": "stdin",
     "output_type": "stream",
     "text": [
      "Enter your line:  type\n",
      "Enter your line:  list(\n"
     ]
    },
    {
     "name": "stdout",
     "output_type": "stream",
     "text": [
      "points\n"
     ]
    },
    {
     "name": "stdin",
     "output_type": "stream",
     "text": [
      "Enter your line:  tuple(\n"
     ]
    },
    {
     "name": "stdout",
     "output_type": "stream",
     "text": [
      "is\n"
     ]
    },
    {
     "name": "stdin",
     "output_type": "stream",
     "text": [
      "Enter your line:  digit\n"
     ]
    },
    {
     "name": "stdout",
     "output_type": "stream",
     "text": [
      "data\n"
     ]
    },
    {
     "name": "stdin",
     "output_type": "stream",
     "text": [
      "Enter your line:  if x==0\n"
     ]
    },
    {
     "name": "stdout",
     "output_type": "stream",
     "text": [
      "y\n"
     ]
    },
    {
     "name": "stdin",
     "output_type": "stream",
     "text": [
      "Enter your line:  if x==0 and \n",
      "Enter your line:  if x==0:\n"
     ]
    },
    {
     "name": "stdout",
     "output_type": "stream",
     "text": [
      "y\n"
     ]
    },
    {
     "name": "stdin",
     "output_type": "stream",
     "text": [
      "Enter your line:  numpy\n",
      "Enter your line:  import os\n",
      "Enter your line:  import numpy as np\n"
     ]
    }
   ],
   "source": [
    "while(True):\n",
    "\n",
    "    text = input(\"Enter your line: \")\n",
    "    \n",
    "    if text == \"stop the script\":\n",
    "        print(\"Ending The Program.....\")\n",
    "        break\n",
    "    \n",
    "    else:\n",
    "        try:\n",
    "            text = text.split(\" \")\n",
    "            text = text[-1]\n",
    "\n",
    "            text = ''.join(text)\n",
    "            Predict_Next_Words(model, tokenizer, text)\n",
    "            \n",
    "        except:\n",
    "            continue"
   ]
  },
  {
   "cell_type": "code",
   "execution_count": null,
   "metadata": {},
   "outputs": [],
   "source": []
  }
 ],
 "metadata": {
  "kernelspec": {
   "display_name": "TensorflowGPU",
   "language": "python",
   "name": "tf_gpu"
  },
  "language_info": {
   "codemirror_mode": {
    "name": "ipython",
    "version": 3
   },
   "file_extension": ".py",
   "mimetype": "text/x-python",
   "name": "python",
   "nbconvert_exporter": "python",
   "pygments_lexer": "ipython3",
   "version": "3.7.4"
  }
 },
 "nbformat": 4,
 "nbformat_minor": 4
}
