{
 "cells": [
  {
   "cell_type": "code",
   "execution_count": 1,
   "metadata": {},
   "outputs": [],
   "source": [
    "import os\n",
    "import numpy as np\n",
    "import re\n",
    "import requests\n",
    "import tarfile\n",
    "import shutil\n",
    "import glob\n",
    "\n",
    "import tensorflow as tf\n",
    "from tensorflow.keras.preprocessing.text import Tokenizer\n",
    "from tensorflow.keras.layers import Embedding, LSTM, Dense\n",
    "from tensorflow.keras.models import Sequential\n",
    "from tensorflow.keras.utils import to_categorical\n",
    "from tensorflow.keras.optimizers import Adam\n",
    "import pickle"
   ]
  },
  {
   "cell_type": "code",
   "execution_count": 2,
   "metadata": {},
   "outputs": [
    {
     "data": {
      "text/plain": [
       "'1.19.5'"
      ]
     },
     "execution_count": 2,
     "metadata": {},
     "output_type": "execute_result"
    }
   ],
   "source": [
    "np.__version__"
   ]
  },
  {
   "cell_type": "code",
   "execution_count": 3,
   "metadata": {},
   "outputs": [
    {
     "data": {
      "text/plain": [
       "'2.4.0'"
      ]
     },
     "execution_count": 3,
     "metadata": {},
     "output_type": "execute_result"
    }
   ],
   "source": [
    "tf.__version__"
   ]
  },
  {
   "cell_type": "code",
   "execution_count": 4,
   "metadata": {},
   "outputs": [
    {
     "name": "stdout",
     "output_type": "stream",
     "text": [
      "\n",
      "Currently Loaded Modules:\n",
      "  1) anaconda3/5.1.0-gcc/8.3.1     4) cudnn/8.0.0.180-11.0-linux-x64-gcc/7.5.0\n",
      "  2) anaconda3/2019.10-gcc/8.3.1   5) openjdk/1.8.0_222-b10-gcc/8.3.1\n",
      "  3) cuda/11.0.3-gcc/7.5.0         6) hadoop/3.2.1-gcc/8.3.1\n",
      "\n",
      " \n",
      "\n"
     ]
    }
   ],
   "source": [
    "!module list"
   ]
  },
  {
   "cell_type": "code",
   "execution_count": 5,
   "metadata": {},
   "outputs": [],
   "source": [
    "file_name = \"Project_CodeNet_LangClass.tar.gz\"\n",
    "data_url = f\"https://dax-cdn.cdn.appdomain.cloud/dax-project-codenet/1.0.0/{file_name}\"\n",
    "\n",
    "# Download tar archive to local disk\n",
    "with open(file_name, \"wb\") as f:\n",
    "    f.write(requests.get(data_url).content)\n",
    "    \n",
    "# Extract contents of archive to local disk\n",
    "if os.path.exists(\"data\"):\n",
    "    shutil.rmtree(\"data\")    \n",
    "with tarfile.open(file_name) as tfile:\n",
    "    tfile.extractall()"
   ]
  },
  {
   "cell_type": "code",
   "execution_count": 6,
   "metadata": {},
   "outputs": [
    {
     "name": "stdout",
     "output_type": "stream",
     "text": [
      "data:\n",
      "test  train\n",
      "\n",
      "data/train:\n",
      "C  C#  C++  D  Haskell\tJava  JavaScript  PHP  Python  Rust\n"
     ]
    }
   ],
   "source": [
    "!ls data data/train"
   ]
  },
  {
   "cell_type": "code",
   "execution_count": 7,
   "metadata": {},
   "outputs": [],
   "source": [
    "langs = [\n",
    "  \"C\",\n",
    "  \"C#\",\n",
    "  \"C++\",\n",
    "  \"D\",\n",
    "  \"Haskell\",\n",
    "  \"Java\",\n",
    "  \"JavaScript\",\n",
    "  \"PHP\",\n",
    "  \"Python\",\n",
    "  \"Rust\"\n",
    "]"
   ]
  },
  {
   "cell_type": "code",
   "execution_count": 8,
   "metadata": {},
   "outputs": [
    {
     "name": "stdout",
     "output_type": "stream",
     "text": [
      "[\"mass = [[0 for p in xrange(14)] for q in xrange(14)]\\nwhile True:\\n\\ttry:\\n\\t\\tx,y,size = map(int,raw_input().split(','))\\n\\t\\tx += 2 ; y += 2\\n\\t\\tif   size == 1:\\n\\t\\t\\tmass[x-2][y-2]+=0;mass[x-1][y-2]+=0;mass[x][y-2]+=0;mass[x+1][y-2]+=0;mass[x+2][y-2]+=0\\n\\t\\t\\tmass[x-2][y-1]+=0;mass[x-1][y-1]+=0;mass[x][y-1]+=1;mass[x+1][y-1]+=0;mass[x+2][y-1]+=0\\n\\t\\t\\tmass[x-2][y]  +=0;mass[x-1][y]  +=1;mass[x][y]  +=1;mass[x+1][y]  +=1;mass[x+2][y]  +=0\\n\\t\\t\\tmass[x-2][y+1]+=0;mass[x-1][y+1]+=0;mass[x][y+1]+=1;mass[x+1][y+1]+=0;mass[x+2][y+1]+=0\\n\\t\\t\\tmass[x-2][y+2]+=0;mass[x-1][y+2]+=0;mass[x][y+2]+=0;mass[x+1][y+2]+=0;mass[x+2][y+2]+=0\\n\\t\\telif size == 2:\\n\\t\\t\\tmass[x-2][y-2]+=0;mass[x-1][y-2]+=0;mass[x][y-2]+=0;mass[x+1][y-2]+=0;mass[x+2][y-2]+=0\\n\\t\\t\\tmass[x-2][y-1]+=0;mass[x-1][y-1]+=1;mass[x][y-1]+=1;mass[x+1][y-1]+=1;mass[x+2][y-1]+=0\\n\\t\\t\\tmass[x-2][y]  +=0;mass[x-1][y]  +=1;mass[x][y]  +=1;mass[x+1][y]  +=1;mass[x+2][y]  +=0\\n\\t\\t\\tmass[x-2][y+1]+=0;mass[x-1][y+1]+=1;mass[x][y+1]+=1;mass[x+1][y+1]+=1;mass[x+2][y+1]+=0\\n\\t\\t\\tmass[x-2][y+2]+=0;mass[x-1][y+2]+=0;mass[x][y+2]+=0;mass[x+1][y+2]+=0;mass[x+2][y+2]+=0\\n\\t\\telif size == 3:\\n\\t\\t\\tmass[x-2][y-2]+=0;mass[x-1][y-2]+=0;mass[x][y-2]+=1;mass[x+1][y-2]+=0;mass[x+2][y-2]+=0\\n\\t\\t\\tmass[x-2][y-1]+=0;mass[x-1][y-1]+=1;mass[x][y-1]+=1;mass[x+1][y-1]+=1;mass[x+2][y-1]+=0\\n\\t\\t\\tmass[x-2][y]  +=1;mass[x-1][y]  +=1;mass[x][y]  +=1;mass[x+1][y]  +=1;mass[x+2][y]  +=1\\n\\t\\t\\tmass[x-2][y+1]+=0;mass[x-1][y+1]+=1;mass[x][y+1]+=1;mass[x+1][y+1]+=1;mass[x+2][y+1]+=0\\n\\t\\t\\tmass[x-2][y+2]+=0;mass[x-1][y+2]+=0;mass[x][y+2]+=1;mass[x+1][y+2]+=0;mass[x+2][y+2]+=0\\n\\texcept: break\\nwhite = 0\\nmax = 0\\nfor p in xrange(2,12):\\n\\tfor q in xrange(2,12):\\n\\t\\tif mass[p][q] == 0: white += 1\\n\\t\\tif mass[p][q] > max: max = mass[p][q]\\nprint white\\nprint max\", '\\nimport cmath\\n\\nclass Point(object):\\n    def __init__(self, x, y):\\n        self.point = complex(x, y)\\n    def __str__(self):\\n        return \"x = {0}, y = {1}\".format(self.point.real, self.point.imag)\\n\\nclass Triangle(Point):\\n    def __init__(self, a, b, c):\\n        self.a = a\\n        self.b = b\\n        self.c = c\\n                self.edgeA = abs(b.point-c.point)\\n        self.edgeB = abs(c.point-a.point)\\n        self.edgeC = abs(a.point-b.point)\\n                self.angleA = Triangle.angle(self.edgeA, self.edgeB, self.edgeC)\\n        self.angleB = Triangle.angle(self.edgeB, self.edgeC, self.edgeA)\\n        self.angleC = Triangle.angle(self.edgeC, self.edgeA, self.edgeB)\\n\\n        def angle(A, B, C):\\n        return cmath.acos( (B*B+C*C-A*A)/(2*B*C) )\\n\\n\\n        def circumscribedCircleRadius(self):\\n        return abs((self.edgeA/cmath.sin(self.angleA))/2)\\n\\n        def circumscribedCircleCenter(self):\\n        A = cmath.sin(2*self.angleA)\\n        B = cmath.sin(2*self.angleB)\\n        C = cmath.sin(2*self.angleC)\\n        X = (self.a.point.real*A + self.b.point.real*B + self.c.point.real*C) / (A+B+C)\\n        Y = (self.a.point.imag*A + self.b.point.imag*B + self.c.point.imag*C) / (A+B+C)\\n        return complex(X, Y)\\n\\nn = int(input())\\nfor i in range(n):\\n    line = list(map(float, input().split()))\\n    p1 = Point(line[0], line[1])\\n    p2 = Point(line[2], line[3])\\n    p3 = Point(line[4], line[5])\\n    T = Triangle(p1, p2, p3)\\n    center = T.circumscribedCircleCenter()\\n    print(\"{0:.3f} {1:.3f} {2:.3f}\".format(center.real, center.imag, T.circumscribedCircleRadius()))']\n"
     ]
    }
   ],
   "source": [
    "file_list = glob.glob(os.path.join(os.getcwd(),\"data/train/Python\",\"*.*\"))\n",
    "corpus = []\n",
    "\n",
    "for file_path in file_list:\n",
    "    with open(file_path) as f_input:\n",
    "        text = re.sub(r'#.*\\n?', '', f_input.read(), flags=re.MULTILINE)\n",
    "        corpus.append(text)\n",
    "\n",
    "print(corpus[0:2])"
   ]
  },
  {
   "cell_type": "code",
   "execution_count": 9,
   "metadata": {},
   "outputs": [
    {
     "name": "stdout",
     "output_type": "stream",
     "text": [
      "90\n"
     ]
    }
   ],
   "source": [
    "print(len(corpus))"
   ]
  },
  {
   "cell_type": "code",
   "execution_count": 10,
   "metadata": {},
   "outputs": [],
   "source": [
    "lang_full_corpus = '\\n'.join(corpus)"
   ]
  },
  {
   "cell_type": "code",
   "execution_count": 11,
   "metadata": {},
   "outputs": [
    {
     "data": {
      "text/plain": [
       "116635"
      ]
     },
     "execution_count": 11,
     "metadata": {},
     "output_type": "execute_result"
    }
   ],
   "source": [
    "len(lang_full_corpus)"
   ]
  },
  {
   "cell_type": "code",
   "execution_count": 12,
   "metadata": {},
   "outputs": [],
   "source": [
    "#lang_full_corpus = lang_full_corpus.replace('\\n', '').replace('\\r', '').replace('\\ufeff', '').replace('\\t','').replace('  ',' ')\n",
    "lang_full_corpus = lang_full_corpus.replace('\\n', '').replace('\\ufeff', '').replace('  ',' ')"
   ]
  },
  {
   "cell_type": "code",
   "execution_count": 13,
   "metadata": {},
   "outputs": [
    {
     "data": {
      "text/plain": [
       "98578"
      ]
     },
     "execution_count": 13,
     "metadata": {},
     "output_type": "execute_result"
    }
   ],
   "source": [
    "len(lang_full_corpus)"
   ]
  },
  {
   "cell_type": "code",
   "execution_count": 14,
   "metadata": {},
   "outputs": [
    {
     "data": {
      "text/plain": [
       "\"mass = [[0 for p in xrange(14)] for q in xrange(14)]while True:\\ttry:\\t\\tx,y,size = map(int,raw_input().split(','))\\t\\tx += 2 ; y += 2\\t\\tif  size == 1:\\t\\t\\tmass[x-2][y-2]+=0;mass[x-1][y-2]+=0;mass[x][y-2]+=0;mass[x+1][y-2]+=0;mass[x+2][y-2]+=0\\t\\t\\tmass[x-2][y-1]+=0;mass[x-1][y-1]+=0;mass[x][y-1]+=1;mass[x+1][y-1]+=0;mass[x+2][y-1]+=0\\t\\t\\tmass[x-2][y] +=0;mass[x-1][y] +=\""
      ]
     },
     "execution_count": 14,
     "metadata": {},
     "output_type": "execute_result"
    }
   ],
   "source": [
    "lang_full_corpus[0:360]"
   ]
  },
  {
   "cell_type": "code",
   "execution_count": 15,
   "metadata": {},
   "outputs": [
    {
     "data": {
      "text/plain": [
       "\"mass = [[ for p in xrange()] for q in xrange()]while True:\\ttry:\\t\\tx,y,size = map(int,raw_input().split(','))\\t\\tx +=  ; y += \\t\\tif  size == :\\t\\t\\tmass[x-][y-]+=;mass[x-][y-]+=;mass[x][y-]+=;mass[x+][y-]+=;mass[x+][y-]+=\\t\\t\\tmass[x-][y-]+=;mass[x-][y-]+=;mass[x][y-]+=;mass[x+][y-]+=;mass[x+][y-]+=\\t\\t\\tmass[x-][y] +=;mass[x-][y] +=;mass[x][y] +=;mass[x+][y] +=;mass[x+][\""
      ]
     },
     "execution_count": 15,
     "metadata": {},
     "output_type": "execute_result"
    }
   ],
   "source": [
    "from string import digits,punctuation\n",
    "remove_digits = str.maketrans('', '', digits)\n",
    "# remove_punt = str.maketrans(punctuation, ' '*len(punctuation)) \n",
    "res = lang_full_corpus.translate(remove_digits)\n",
    "# res = res.translate(remove_punt)\n",
    "res[0:360]"
   ]
  },
  {
   "cell_type": "code",
   "execution_count": 16,
   "metadata": {},
   "outputs": [],
   "source": [
    "# import nltk\n",
    "# allWords = nltk.tokenize.word_tokenize(lang_full_corpus)\n",
    "# allWordDist = nltk.FreqDist(w.lower() for w in allWords)\n",
    "# mostCommon= allWordDist.most_common(100)"
   ]
  },
  {
   "cell_type": "code",
   "execution_count": 17,
   "metadata": {},
   "outputs": [
    {
     "data": {
      "text/plain": [
       "[36, 9, 11, 8, 73, 9, 94, 8, 73, 57]"
      ]
     },
     "execution_count": 17,
     "metadata": {},
     "output_type": "execute_result"
    }
   ],
   "source": [
    "tokenizer = Tokenizer()\n",
    "tokenizer.fit_on_texts([res])\n",
    "\n",
    "pickle.dump(tokenizer, open('tokenizer1.pkl', 'wb'))\n",
    "\n",
    "sequence_data = tokenizer.texts_to_sequences([res])[0]\n",
    "sequence_data[:10]"
   ]
  },
  {
   "cell_type": "code",
   "execution_count": 18,
   "metadata": {},
   "outputs": [
    {
     "name": "stdout",
     "output_type": "stream",
     "text": [
      "764\n"
     ]
    }
   ],
   "source": [
    "vocab_size = len(tokenizer.word_index) + 1\n",
    "print(vocab_size)"
   ]
  },
  {
   "cell_type": "code",
   "execution_count": 19,
   "metadata": {},
   "outputs": [
    {
     "name": "stdout",
     "output_type": "stream",
     "text": [
      "The Length of sequences are:  15466\n"
     ]
    },
    {
     "data": {
      "text/plain": [
       "array([[36,  9],\n",
       "       [ 9, 11],\n",
       "       [11,  8],\n",
       "       [ 8, 73],\n",
       "       [73,  9],\n",
       "       [ 9, 94],\n",
       "       [94,  8],\n",
       "       [ 8, 73],\n",
       "       [73, 57],\n",
       "       [57, 39]])"
      ]
     },
     "execution_count": 19,
     "metadata": {},
     "output_type": "execute_result"
    }
   ],
   "source": [
    "sequences = []\n",
    "\n",
    "for i in range(1, len(sequence_data)):\n",
    "    words = sequence_data[i-1:i+1]\n",
    "    sequences.append(words)\n",
    "    \n",
    "print(\"The Length of sequences are: \", len(sequences))\n",
    "sequences = np.array(sequences)\n",
    "sequences[:10]"
   ]
  },
  {
   "cell_type": "code",
   "execution_count": 20,
   "metadata": {},
   "outputs": [],
   "source": [
    "X = []\n",
    "y = []\n",
    "\n",
    "for i in sequences:\n",
    "    X.append(i[0])\n",
    "    y.append(i[1])\n",
    "    \n",
    "X = np.array(X)\n",
    "y = np.array(y)"
   ]
  },
  {
   "cell_type": "code",
   "execution_count": 21,
   "metadata": {},
   "outputs": [
    {
     "name": "stdout",
     "output_type": "stream",
     "text": [
      "The Data is:  [36  9 11  8 73]\n",
      "The responses are:  [ 9 11  8 73  9]\n"
     ]
    }
   ],
   "source": [
    "print(\"The Data is: \", X[:5])\n",
    "print(\"The responses are: \", y[:5])"
   ]
  },
  {
   "cell_type": "code",
   "execution_count": 22,
   "metadata": {},
   "outputs": [
    {
     "data": {
      "text/plain": [
       "array([[0., 0., 0., ..., 0., 0., 0.],\n",
       "       [0., 0., 0., ..., 0., 0., 0.],\n",
       "       [0., 0., 0., ..., 0., 0., 0.],\n",
       "       [0., 0., 0., ..., 0., 0., 0.],\n",
       "       [0., 0., 0., ..., 0., 0., 0.]], dtype=float32)"
      ]
     },
     "execution_count": 22,
     "metadata": {},
     "output_type": "execute_result"
    }
   ],
   "source": [
    "y = to_categorical(y, num_classes=vocab_size)\n",
    "y[:5]"
   ]
  },
  {
   "cell_type": "code",
   "execution_count": 23,
   "metadata": {},
   "outputs": [],
   "source": [
    "model = Sequential()\n",
    "model.add(Embedding(vocab_size, 10, input_length=1))\n",
    "model.add(LSTM(1000, return_sequences=True))\n",
    "model.add(LSTM(1000))\n",
    "model.add(Dense(1000, activation=\"relu\"))\n",
    "model.add(Dense(vocab_size, activation=\"softmax\"))"
   ]
  },
  {
   "cell_type": "code",
   "execution_count": 24,
   "metadata": {},
   "outputs": [
    {
     "name": "stdout",
     "output_type": "stream",
     "text": [
      "Model: \"sequential\"\n",
      "_________________________________________________________________\n",
      "Layer (type)                 Output Shape              Param #   \n",
      "=================================================================\n",
      "embedding (Embedding)        (None, 1, 10)             7640      \n",
      "_________________________________________________________________\n",
      "lstm (LSTM)                  (None, 1, 1000)           4044000   \n",
      "_________________________________________________________________\n",
      "lstm_1 (LSTM)                (None, 1000)              8004000   \n",
      "_________________________________________________________________\n",
      "dense (Dense)                (None, 1000)              1001000   \n",
      "_________________________________________________________________\n",
      "dense_1 (Dense)              (None, 764)               764764    \n",
      "=================================================================\n",
      "Total params: 13,821,404\n",
      "Trainable params: 13,821,404\n",
      "Non-trainable params: 0\n",
      "_________________________________________________________________\n"
     ]
    }
   ],
   "source": [
    "model.summary()"
   ]
  },
  {
   "cell_type": "code",
   "execution_count": 25,
   "metadata": {},
   "outputs": [],
   "source": [
    "# from tensorflow.keras.utils.vis_utils import plot_model\n",
    "\n",
    "# plot_model(model, to_file='model.png', show_layer_names=True)"
   ]
  },
  {
   "cell_type": "code",
   "execution_count": 26,
   "metadata": {},
   "outputs": [],
   "source": [
    "from tensorflow.keras.callbacks import ModelCheckpoint\n",
    "from tensorflow.keras.callbacks import ReduceLROnPlateau\n",
    "from tensorflow.keras.callbacks import TensorBoard\n",
    "\n",
    "checkpoint = ModelCheckpoint(\"nextword1.h5\", monitor='loss', verbose=1,\n",
    "    save_best_only=True, mode='auto')\n",
    "\n",
    "reduce = ReduceLROnPlateau(monitor='loss', factor=0.2, patience=3, min_lr=0.0001, verbose = 1)\n",
    "\n",
    "logdir='logsnextword1'\n",
    "tensorboard_Visualization = TensorBoard(log_dir=logdir)"
   ]
  },
  {
   "cell_type": "code",
   "execution_count": 27,
   "metadata": {},
   "outputs": [],
   "source": [
    "model.compile(loss=\"categorical_crossentropy\", optimizer=Adam(lr=0.001))"
   ]
  },
  {
   "cell_type": "code",
   "execution_count": 28,
   "metadata": {},
   "outputs": [
    {
     "name": "stdout",
     "output_type": "stream",
     "text": [
      "Epoch 1/150\n",
      "242/242 [==============================] - 5s 8ms/step - loss: 5.2963\n",
      "\n",
      "Epoch 00001: loss improved from inf to 4.91762, saving model to nextword1.h5\n",
      "Epoch 2/150\n",
      "242/242 [==============================] - 2s 7ms/step - loss: 4.5651\n",
      "\n",
      "Epoch 00002: loss improved from 4.91762 to 4.49342, saving model to nextword1.h5\n",
      "Epoch 3/150\n",
      "242/242 [==============================] - 2s 7ms/step - loss: 4.2201\n",
      "\n",
      "Epoch 00003: loss improved from 4.49342 to 4.19296, saving model to nextword1.h5\n",
      "Epoch 4/150\n",
      "242/242 [==============================] - 2s 7ms/step - loss: 4.0256\n",
      "\n",
      "Epoch 00004: loss improved from 4.19296 to 4.00627, saving model to nextword1.h5\n",
      "Epoch 5/150\n",
      "242/242 [==============================] - 2s 7ms/step - loss: 3.8531\n",
      "\n",
      "Epoch 00005: loss improved from 4.00627 to 3.85152, saving model to nextword1.h5\n",
      "Epoch 6/150\n",
      "242/242 [==============================] - 2s 7ms/step - loss: 3.7284\n",
      "\n",
      "Epoch 00006: loss improved from 3.85152 to 3.73318, saving model to nextword1.h5\n",
      "Epoch 7/150\n",
      "242/242 [==============================] - 2s 7ms/step - loss: 3.6166\n",
      "\n",
      "Epoch 00007: loss improved from 3.73318 to 3.62035, saving model to nextword1.h5\n",
      "Epoch 8/150\n",
      "242/242 [==============================] - 2s 7ms/step - loss: 3.5211\n",
      "\n",
      "Epoch 00008: loss improved from 3.62035 to 3.53317, saving model to nextword1.h5\n",
      "Epoch 9/150\n",
      "242/242 [==============================] - 2s 7ms/step - loss: 3.4523\n",
      "\n",
      "Epoch 00009: loss improved from 3.53317 to 3.46220, saving model to nextword1.h5\n",
      "Epoch 10/150\n",
      "242/242 [==============================] - 2s 7ms/step - loss: 3.3941\n",
      "\n",
      "Epoch 00010: loss improved from 3.46220 to 3.39668, saving model to nextword1.h5\n",
      "Epoch 11/150\n",
      "242/242 [==============================] - 2s 7ms/step - loss: 3.3069\n",
      "\n",
      "Epoch 00011: loss improved from 3.39668 to 3.33417, saving model to nextword1.h5\n",
      "Epoch 12/150\n",
      "242/242 [==============================] - 2s 7ms/step - loss: 3.2477\n",
      "\n",
      "Epoch 00012: loss improved from 3.33417 to 3.27909, saving model to nextword1.h5\n",
      "Epoch 13/150\n",
      "242/242 [==============================] - 2s 7ms/step - loss: 3.1864\n",
      "\n",
      "Epoch 00013: loss improved from 3.27909 to 3.23425, saving model to nextword1.h5\n",
      "Epoch 14/150\n",
      "242/242 [==============================] - 2s 7ms/step - loss: 3.1566\n",
      "\n",
      "Epoch 00014: loss improved from 3.23425 to 3.18130, saving model to nextword1.h5\n",
      "Epoch 15/150\n",
      "242/242 [==============================] - 2s 7ms/step - loss: 3.1114\n",
      "\n",
      "Epoch 00015: loss improved from 3.18130 to 3.13753, saving model to nextword1.h5\n",
      "Epoch 16/150\n",
      "242/242 [==============================] - 2s 7ms/step - loss: 3.0482\n",
      "\n",
      "Epoch 00016: loss improved from 3.13753 to 3.09915, saving model to nextword1.h5\n",
      "Epoch 17/150\n",
      "242/242 [==============================] - 2s 7ms/step - loss: 3.0451\n",
      "\n",
      "Epoch 00017: loss improved from 3.09915 to 3.05911, saving model to nextword1.h5\n",
      "Epoch 18/150\n",
      "242/242 [==============================] - 2s 7ms/step - loss: 3.0002\n",
      "\n",
      "Epoch 00018: loss improved from 3.05911 to 3.01938, saving model to nextword1.h5\n",
      "Epoch 19/150\n",
      "242/242 [==============================] - 2s 7ms/step - loss: 2.9397\n",
      "\n",
      "Epoch 00019: loss improved from 3.01938 to 2.98750, saving model to nextword1.h5\n",
      "Epoch 20/150\n",
      "242/242 [==============================] - 2s 7ms/step - loss: 2.9449\n",
      "\n",
      "Epoch 00020: loss improved from 2.98750 to 2.96432, saving model to nextword1.h5\n",
      "Epoch 21/150\n",
      "242/242 [==============================] - 2s 7ms/step - loss: 2.9005\n",
      "\n",
      "Epoch 00021: loss improved from 2.96432 to 2.93386, saving model to nextword1.h5\n",
      "Epoch 22/150\n",
      "242/242 [==============================] - 2s 7ms/step - loss: 2.9184\n",
      "\n",
      "Epoch 00022: loss improved from 2.93386 to 2.90967, saving model to nextword1.h5\n",
      "Epoch 23/150\n",
      "242/242 [==============================] - 2s 7ms/step - loss: 2.8593\n",
      "\n",
      "Epoch 00023: loss improved from 2.90967 to 2.89222, saving model to nextword1.h5\n",
      "Epoch 24/150\n",
      "242/242 [==============================] - 2s 7ms/step - loss: 2.8464\n",
      "\n",
      "Epoch 00024: loss improved from 2.89222 to 2.87165, saving model to nextword1.h5\n",
      "Epoch 25/150\n",
      "242/242 [==============================] - 2s 7ms/step - loss: 2.8224\n",
      "\n",
      "Epoch 00025: loss improved from 2.87165 to 2.85045, saving model to nextword1.h5\n",
      "Epoch 26/150\n",
      "242/242 [==============================] - 2s 7ms/step - loss: 2.7993\n",
      "\n",
      "Epoch 00026: loss improved from 2.85045 to 2.83618, saving model to nextword1.h5\n",
      "Epoch 27/150\n",
      "242/242 [==============================] - 2s 7ms/step - loss: 2.8015\n",
      "\n",
      "Epoch 00027: loss improved from 2.83618 to 2.82682, saving model to nextword1.h5\n",
      "Epoch 28/150\n",
      "242/242 [==============================] - 2s 7ms/step - loss: 2.7827\n",
      "\n",
      "Epoch 00028: loss improved from 2.82682 to 2.80971, saving model to nextword1.h5\n",
      "Epoch 29/150\n",
      "242/242 [==============================] - 2s 7ms/step - loss: 2.7580\n",
      "\n",
      "Epoch 00029: loss improved from 2.80971 to 2.79365, saving model to nextword1.h5\n",
      "Epoch 30/150\n",
      "242/242 [==============================] - 2s 7ms/step - loss: 2.7508\n",
      "\n",
      "Epoch 00030: loss improved from 2.79365 to 2.78557, saving model to nextword1.h5\n",
      "Epoch 31/150\n",
      "242/242 [==============================] - 2s 7ms/step - loss: 2.6959\n",
      "\n",
      "Epoch 00031: loss improved from 2.78557 to 2.77131, saving model to nextword1.h5\n",
      "Epoch 32/150\n",
      "242/242 [==============================] - 2s 7ms/step - loss: 2.7466A:\n",
      "\n",
      "Epoch 00032: loss improved from 2.77131 to 2.76325, saving model to nextword1.h5\n",
      "Epoch 33/150\n",
      "242/242 [==============================] - 2s 7ms/step - loss: 2.7462\n",
      "\n",
      "Epoch 00033: loss improved from 2.76325 to 2.75815, saving model to nextword1.h5\n",
      "Epoch 34/150\n",
      "242/242 [==============================] - 2s 7ms/step - loss: 2.7041\n",
      "\n",
      "Epoch 00034: loss improved from 2.75815 to 2.74542, saving model to nextword1.h5\n",
      "Epoch 35/150\n",
      "242/242 [==============================] - 2s 7ms/step - loss: 2.6925\n",
      "\n",
      "Epoch 00035: loss improved from 2.74542 to 2.73754, saving model to nextword1.h5\n",
      "Epoch 36/150\n",
      "242/242 [==============================] - 2s 7ms/step - loss: 2.7169\n",
      "\n",
      "Epoch 00036: loss improved from 2.73754 to 2.73230, saving model to nextword1.h5\n",
      "Epoch 37/150\n",
      "242/242 [==============================] - 2s 7ms/step - loss: 2.6892\n",
      "\n",
      "Epoch 00037: loss improved from 2.73230 to 2.72683, saving model to nextword1.h5\n",
      "Epoch 38/150\n",
      "242/242 [==============================] - 2s 7ms/step - loss: 2.6934\n",
      "\n",
      "Epoch 00038: loss improved from 2.72683 to 2.72196, saving model to nextword1.h5\n",
      "Epoch 39/150\n",
      "242/242 [==============================] - 2s 7ms/step - loss: 2.7010\n",
      "\n",
      "Epoch 00039: loss improved from 2.72196 to 2.71559, saving model to nextword1.h5\n",
      "Epoch 40/150\n",
      "242/242 [==============================] - 2s 7ms/step - loss: 2.6622\n",
      "\n",
      "Epoch 00040: loss improved from 2.71559 to 2.70441, saving model to nextword1.h5\n",
      "Epoch 41/150\n",
      "242/242 [==============================] - 2s 7ms/step - loss: 2.6688\n",
      "\n",
      "Epoch 00041: loss improved from 2.70441 to 2.70340, saving model to nextword1.h5\n",
      "Epoch 42/150\n",
      "242/242 [==============================] - 2s 7ms/step - loss: 2.6656\n",
      "\n",
      "Epoch 00042: loss improved from 2.70340 to 2.69799, saving model to nextword1.h5\n",
      "Epoch 43/150\n",
      "242/242 [==============================] - 2s 7ms/step - loss: 2.6523\n",
      "\n",
      "Epoch 00043: loss improved from 2.69799 to 2.69067, saving model to nextword1.h5\n",
      "Epoch 44/150\n",
      "242/242 [==============================] - 2s 7ms/step - loss: 2.6611\n",
      "\n",
      "Epoch 00044: loss did not improve from 2.69067\n",
      "Epoch 45/150\n",
      "242/242 [==============================] - 2s 7ms/step - loss: 2.6590\n",
      "\n",
      "Epoch 00045: loss improved from 2.69067 to 2.68435, saving model to nextword1.h5\n",
      "Epoch 46/150\n",
      "242/242 [==============================] - 2s 7ms/step - loss: 2.6393\n",
      "\n",
      "Epoch 00046: loss improved from 2.68435 to 2.67985, saving model to nextword1.h5\n",
      "Epoch 47/150\n",
      "242/242 [==============================] - 2s 7ms/step - loss: 2.6442\n",
      "\n",
      "Epoch 00047: loss improved from 2.67985 to 2.67655, saving model to nextword1.h5\n",
      "Epoch 48/150\n",
      "242/242 [==============================] - 2s 7ms/step - loss: 2.6557\n",
      "\n",
      "Epoch 00048: loss improved from 2.67655 to 2.67117, saving model to nextword1.h5\n",
      "Epoch 49/150\n",
      "242/242 [==============================] - 2s 7ms/step - loss: 2.6326\n",
      "\n",
      "Epoch 00049: loss did not improve from 2.67117\n",
      "Epoch 50/150\n",
      "242/242 [==============================] - 2s 7ms/step - loss: 2.6305\n",
      "\n",
      "Epoch 00050: loss improved from 2.67117 to 2.66474, saving model to nextword1.h5\n",
      "Epoch 51/150\n",
      "242/242 [==============================] - 2s 7ms/step - loss: 2.6370\n",
      "\n",
      "Epoch 00051: loss improved from 2.66474 to 2.66319, saving model to nextword1.h5\n",
      "Epoch 52/150\n",
      "242/242 [==============================] - 2s 7ms/step - loss: 2.6320\n",
      "\n",
      "Epoch 00052: loss improved from 2.66319 to 2.66081, saving model to nextword1.h5\n",
      "Epoch 53/150\n",
      "242/242 [==============================] - 2s 7ms/step - loss: 2.6305\n",
      "\n",
      "Epoch 00053: loss improved from 2.66081 to 2.65411, saving model to nextword1.h5\n",
      "Epoch 54/150\n",
      "242/242 [==============================] - 2s 7ms/step - loss: 2.6284\n",
      "\n",
      "Epoch 00054: loss improved from 2.65411 to 2.65305, saving model to nextword1.h5\n",
      "Epoch 55/150\n",
      "242/242 [==============================] - 2s 7ms/step - loss: 2.6154\n",
      "\n",
      "Epoch 00055: loss improved from 2.65305 to 2.64987, saving model to nextword1.h5\n",
      "Epoch 56/150\n",
      "242/242 [==============================] - 2s 7ms/step - loss: 2.6355\n",
      "\n",
      "Epoch 00056: loss improved from 2.64987 to 2.64957, saving model to nextword1.h5\n",
      "Epoch 57/150\n",
      "242/242 [==============================] - 2s 7ms/step - loss: 2.6218\n",
      "\n",
      "Epoch 00057: loss improved from 2.64957 to 2.64567, saving model to nextword1.h5\n",
      "Epoch 58/150\n",
      "242/242 [==============================] - 2s 7ms/step - loss: 2.5901\n",
      "\n",
      "Epoch 00058: loss improved from 2.64567 to 2.64133, saving model to nextword1.h5\n",
      "Epoch 59/150\n",
      "242/242 [==============================] - 2s 7ms/step - loss: 2.6115\n",
      "\n",
      "Epoch 00059: loss improved from 2.64133 to 2.63849, saving model to nextword1.h5\n",
      "Epoch 60/150\n",
      "242/242 [==============================] - 2s 7ms/step - loss: 2.6176\n",
      "\n",
      "Epoch 00060: loss did not improve from 2.63849\n",
      "Epoch 61/150\n",
      "242/242 [==============================] - 2s 7ms/step - loss: 2.5986\n",
      "\n",
      "Epoch 00061: loss improved from 2.63849 to 2.63556, saving model to nextword1.h5\n",
      "Epoch 62/150\n",
      "242/242 [==============================] - 2s 7ms/step - loss: 2.6009\n",
      "\n",
      "Epoch 00062: loss improved from 2.63556 to 2.63112, saving model to nextword1.h5\n",
      "Epoch 63/150\n",
      "242/242 [==============================] - 2s 7ms/step - loss: 2.5864\n",
      "\n",
      "Epoch 00063: loss did not improve from 2.63112\n",
      "Epoch 64/150\n",
      "242/242 [==============================] - 2s 7ms/step - loss: 2.6092\n",
      "\n",
      "Epoch 00064: loss improved from 2.63112 to 2.63012, saving model to nextword1.h5\n",
      "Epoch 65/150\n",
      "242/242 [==============================] - 2s 7ms/step - loss: 2.5916\n",
      "\n",
      "Epoch 00065: loss improved from 2.63012 to 2.62785, saving model to nextword1.h5\n",
      "Epoch 66/150\n",
      "242/242 [==============================] - 2s 7ms/step - loss: 2.5859\n",
      "\n",
      "Epoch 00066: loss improved from 2.62785 to 2.62696, saving model to nextword1.h5\n",
      "Epoch 67/150\n",
      "242/242 [==============================] - 2s 7ms/step - loss: 2.5994\n",
      "\n",
      "Epoch 00067: loss improved from 2.62696 to 2.62533, saving model to nextword1.h5\n",
      "Epoch 68/150\n",
      "242/242 [==============================] - 2s 7ms/step - loss: 2.5681\n",
      "\n",
      "Epoch 00068: loss improved from 2.62533 to 2.61946, saving model to nextword1.h5\n",
      "Epoch 69/150\n",
      "242/242 [==============================] - 2s 7ms/step - loss: 2.6129\n",
      "\n",
      "Epoch 00069: loss did not improve from 2.61946\n",
      "Epoch 70/150\n",
      "242/242 [==============================] - 2s 7ms/step - loss: 2.5942\n",
      "\n",
      "Epoch 00070: loss improved from 2.61946 to 2.61818, saving model to nextword1.h5\n",
      "Epoch 71/150\n",
      "242/242 [==============================] - 2s 7ms/step - loss: 2.6120\n",
      "\n",
      "Epoch 00071: loss did not improve from 2.61818\n",
      "Epoch 72/150\n",
      "242/242 [==============================] - 2s 7ms/step - loss: 2.5974\n",
      "\n",
      "Epoch 00072: loss improved from 2.61818 to 2.61410, saving model to nextword1.h5\n",
      "Epoch 73/150\n",
      "242/242 [==============================] - 2s 7ms/step - loss: 2.5839\n",
      "\n",
      "Epoch 00073: loss improved from 2.61410 to 2.61294, saving model to nextword1.h5\n",
      "Epoch 74/150\n",
      "242/242 [==============================] - 2s 7ms/step - loss: 2.5878\n",
      "\n",
      "Epoch 00074: loss improved from 2.61294 to 2.61100, saving model to nextword1.h5\n",
      "Epoch 75/150\n",
      "242/242 [==============================] - 2s 7ms/step - loss: 2.5789\n",
      "\n",
      "Epoch 00075: loss did not improve from 2.61100\n",
      "Epoch 76/150\n",
      "242/242 [==============================] - 2s 7ms/step - loss: 2.5849\n",
      "\n",
      "Epoch 00076: loss improved from 2.61100 to 2.61047, saving model to nextword1.h5\n",
      "Epoch 77/150\n",
      "242/242 [==============================] - 2s 7ms/step - loss: 2.5630\n",
      "\n",
      "Epoch 00077: loss improved from 2.61047 to 2.60829, saving model to nextword1.h5\n",
      "Epoch 78/150\n",
      "242/242 [==============================] - 2s 7ms/step - loss: 2.5707\n",
      "\n",
      "Epoch 00078: loss improved from 2.60829 to 2.60546, saving model to nextword1.h5\n",
      "Epoch 79/150\n",
      "242/242 [==============================] - 2s 7ms/step - loss: 2.5782\n",
      "\n",
      "Epoch 00079: loss improved from 2.60546 to 2.60424, saving model to nextword1.h5\n",
      "Epoch 80/150\n",
      "242/242 [==============================] - 2s 7ms/step - loss: 2.5854\n",
      "\n",
      "Epoch 00080: loss improved from 2.60424 to 2.60352, saving model to nextword1.h5\n",
      "Epoch 81/150\n",
      "242/242 [==============================] - 2s 7ms/step - loss: 2.5829\n",
      "\n",
      "Epoch 00081: loss improved from 2.60352 to 2.60152, saving model to nextword1.h5\n",
      "Epoch 82/150\n",
      "242/242 [==============================] - 2s 7ms/step - loss: 2.5687\n",
      "\n",
      "Epoch 00082: loss improved from 2.60152 to 2.60086, saving model to nextword1.h5\n",
      "Epoch 83/150\n",
      "242/242 [==============================] - 2s 7ms/step - loss: 2.5686\n",
      "\n",
      "Epoch 00083: loss improved from 2.60086 to 2.59943, saving model to nextword1.h5\n",
      "Epoch 84/150\n",
      "242/242 [==============================] - 2s 7ms/step - loss: 2.5924\n",
      "\n",
      "Epoch 00084: loss improved from 2.59943 to 2.59889, saving model to nextword1.h5\n",
      "Epoch 85/150\n",
      "242/242 [==============================] - 2s 7ms/step - loss: 2.5982\n",
      "\n",
      "Epoch 00085: loss improved from 2.59889 to 2.59674, saving model to nextword1.h5\n",
      "Epoch 86/150\n",
      "242/242 [==============================] - 2s 7ms/step - loss: 2.5865\n",
      "\n",
      "Epoch 00086: loss improved from 2.59674 to 2.59656, saving model to nextword1.h5\n",
      "Epoch 87/150\n",
      "242/242 [==============================] - 2s 7ms/step - loss: 2.5626\n",
      "\n",
      "Epoch 00087: loss improved from 2.59656 to 2.59505, saving model to nextword1.h5\n",
      "Epoch 88/150\n",
      "242/242 [==============================] - 2s 7ms/step - loss: 2.5682\n",
      "\n",
      "Epoch 00088: loss improved from 2.59505 to 2.59375, saving model to nextword1.h5\n",
      "Epoch 89/150\n",
      "242/242 [==============================] - 2s 7ms/step - loss: 2.5615\n",
      "\n",
      "Epoch 00089: loss improved from 2.59375 to 2.59319, saving model to nextword1.h5\n",
      "Epoch 90/150\n",
      "242/242 [==============================] - 2s 7ms/step - loss: 2.5921\n",
      "\n",
      "Epoch 00090: loss improved from 2.59319 to 2.59250, saving model to nextword1.h5\n",
      "Epoch 91/150\n",
      "242/242 [==============================] - 2s 7ms/step - loss: 2.5952\n",
      "\n",
      "Epoch 00091: loss improved from 2.59250 to 2.59195, saving model to nextword1.h5\n",
      "Epoch 92/150\n",
      "242/242 [==============================] - 2s 7ms/step - loss: 2.5587\n",
      "\n",
      "Epoch 00092: loss improved from 2.59195 to 2.58994, saving model to nextword1.h5\n",
      "Epoch 93/150\n",
      "242/242 [==============================] - 2s 7ms/step - loss: 2.5477\n",
      "\n",
      "Epoch 00093: loss improved from 2.58994 to 2.58952, saving model to nextword1.h5\n",
      "Epoch 94/150\n",
      "242/242 [==============================] - 2s 7ms/step - loss: 2.5658\n",
      "\n",
      "Epoch 00094: loss improved from 2.58952 to 2.58938, saving model to nextword1.h5\n",
      "Epoch 95/150\n",
      "242/242 [==============================] - 2s 7ms/step - loss: 2.5611\n",
      "\n",
      "Epoch 00095: loss improved from 2.58938 to 2.58913, saving model to nextword1.h5\n",
      "Epoch 96/150\n",
      "242/242 [==============================] - 2s 7ms/step - loss: 2.5465\n",
      "\n",
      "Epoch 00096: loss improved from 2.58913 to 2.58632, saving model to nextword1.h5\n",
      "Epoch 97/150\n",
      "242/242 [==============================] - 2s 7ms/step - loss: 2.5529\n",
      "\n",
      "Epoch 00097: loss improved from 2.58632 to 2.58591, saving model to nextword1.h5\n",
      "Epoch 98/150\n",
      "242/242 [==============================] - 2s 7ms/step - loss: 2.5721\n",
      "\n",
      "Epoch 00098: loss improved from 2.58591 to 2.58500, saving model to nextword1.h5\n",
      "Epoch 99/150\n",
      "242/242 [==============================] - 2s 7ms/step - loss: 2.5858\n",
      "\n",
      "Epoch 00099: loss improved from 2.58500 to 2.58283, saving model to nextword1.h5\n",
      "Epoch 100/150\n",
      "242/242 [==============================] - 2s 7ms/step - loss: 2.5770\n",
      "\n",
      "Epoch 00100: loss did not improve from 2.58283\n",
      "Epoch 101/150\n",
      "242/242 [==============================] - 2s 7ms/step - loss: 2.5649\n",
      "\n",
      "Epoch 00101: loss improved from 2.58283 to 2.58261, saving model to nextword1.h5\n",
      "Epoch 102/150\n",
      "242/242 [==============================] - 2s 7ms/step - loss: 2.5601\n",
      "\n",
      "Epoch 00102: loss improved from 2.58261 to 2.58138, saving model to nextword1.h5\n",
      "Epoch 103/150\n",
      "242/242 [==============================] - 2s 7ms/step - loss: 2.5654\n",
      "\n",
      "Epoch 00103: loss did not improve from 2.58138\n",
      "Epoch 104/150\n",
      "242/242 [==============================] - 2s 7ms/step - loss: 2.5645\n",
      "\n",
      "Epoch 00104: loss improved from 2.58138 to 2.58042, saving model to nextword1.h5\n",
      "Epoch 105/150\n",
      "242/242 [==============================] - 2s 7ms/step - loss: 2.5534\n",
      "\n",
      "Epoch 00105: loss improved from 2.58042 to 2.57897, saving model to nextword1.h5\n",
      "Epoch 106/150\n",
      "242/242 [==============================] - 2s 7ms/step - loss: 2.5561\n",
      "\n",
      "Epoch 00106: loss did not improve from 2.57897\n",
      "Epoch 107/150\n",
      "242/242 [==============================] - 2s 7ms/step - loss: 2.5462\n",
      "\n",
      "Epoch 00107: loss did not improve from 2.57897\n",
      "Epoch 108/150\n",
      "242/242 [==============================] - 2s 7ms/step - loss: 2.5649\n",
      "\n",
      "Epoch 00108: loss improved from 2.57897 to 2.57732, saving model to nextword1.h5\n",
      "Epoch 109/150\n",
      "242/242 [==============================] - 2s 7ms/step - loss: 2.5539\n",
      "\n",
      "Epoch 00109: loss did not improve from 2.57732\n",
      "Epoch 110/150\n",
      "242/242 [==============================] - 2s 7ms/step - loss: 2.5347\n",
      "\n",
      "Epoch 00110: loss improved from 2.57732 to 2.57695, saving model to nextword1.h5\n",
      "Epoch 111/150\n",
      "242/242 [==============================] - 2s 7ms/step - loss: 2.5436\n",
      "\n",
      "Epoch 00111: loss did not improve from 2.57695\n",
      "Epoch 112/150\n",
      "242/242 [==============================] - 2s 7ms/step - loss: 2.5347\n",
      "\n",
      "Epoch 00112: loss improved from 2.57695 to 2.57517, saving model to nextword1.h5\n",
      "Epoch 113/150\n",
      "242/242 [==============================] - 2s 7ms/step - loss: 2.5687\n",
      "\n",
      "Epoch 00113: loss improved from 2.57517 to 2.57435, saving model to nextword1.h5\n",
      "Epoch 114/150\n",
      "242/242 [==============================] - 2s 7ms/step - loss: 2.5515\n",
      "\n",
      "Epoch 00114: loss improved from 2.57435 to 2.57302, saving model to nextword1.h5\n",
      "Epoch 115/150\n",
      "242/242 [==============================] - 2s 7ms/step - loss: 2.5406\n",
      "\n",
      "Epoch 00115: loss did not improve from 2.57302\n",
      "Epoch 116/150\n",
      "242/242 [==============================] - 2s 7ms/step - loss: 2.5549\n",
      "\n",
      "Epoch 00116: loss did not improve from 2.57302\n",
      "Epoch 117/150\n",
      "242/242 [==============================] - 2s 7ms/step - loss: 2.5408\n",
      "\n",
      "Epoch 00117: loss did not improve from 2.57302\n",
      "\n",
      "Epoch 00117: ReduceLROnPlateau reducing learning rate to 0.00020000000949949026.\n",
      "Epoch 118/150\n",
      "242/242 [==============================] - 2s 7ms/step - loss: 2.5081\n",
      "\n",
      "Epoch 00118: loss improved from 2.57302 to 2.52898, saving model to nextword1.h5\n",
      "Epoch 119/150\n",
      "242/242 [==============================] - 2s 7ms/step - loss: 2.5092\n",
      "\n",
      "Epoch 00119: loss improved from 2.52898 to 2.52438, saving model to nextword1.h5\n",
      "Epoch 120/150\n",
      "242/242 [==============================] - 2s 7ms/step - loss: 2.5418\n",
      "\n",
      "Epoch 00120: loss improved from 2.52438 to 2.52291, saving model to nextword1.h5\n",
      "Epoch 121/150\n",
      "242/242 [==============================] - 2s 7ms/step - loss: 2.4948\n",
      "\n",
      "Epoch 00121: loss improved from 2.52291 to 2.52258, saving model to nextword1.h5\n",
      "Epoch 122/150\n",
      "242/242 [==============================] - 2s 7ms/step - loss: 2.5456\n",
      "\n",
      "Epoch 00122: loss improved from 2.52258 to 2.52214, saving model to nextword1.h5\n",
      "Epoch 123/150\n",
      "242/242 [==============================] - 2s 7ms/step - loss: 2.5158\n",
      "\n",
      "Epoch 00123: loss improved from 2.52214 to 2.52178, saving model to nextword1.h5\n",
      "Epoch 124/150\n",
      "242/242 [==============================] - 2s 7ms/step - loss: 2.4991\n",
      "\n",
      "Epoch 00124: loss improved from 2.52178 to 2.52145, saving model to nextword1.h5\n",
      "Epoch 125/150\n",
      "242/242 [==============================] - 2s 7ms/step - loss: 2.5163\n",
      "\n",
      "Epoch 00125: loss did not improve from 2.52145\n",
      "Epoch 126/150\n",
      "242/242 [==============================] - 2s 7ms/step - loss: 2.5134\n",
      "\n",
      "Epoch 00126: loss improved from 2.52145 to 2.52116, saving model to nextword1.h5\n",
      "Epoch 127/150\n",
      "242/242 [==============================] - 2s 7ms/step - loss: 2.4941\n",
      "\n",
      "Epoch 00127: loss improved from 2.52116 to 2.52109, saving model to nextword1.h5\n",
      "Epoch 128/150\n",
      "242/242 [==============================] - 2s 7ms/step - loss: 2.4935\n",
      "\n",
      "Epoch 00128: loss improved from 2.52109 to 2.52108, saving model to nextword1.h5\n",
      "Epoch 129/150\n",
      "242/242 [==============================] - 2s 7ms/step - loss: 2.5032\n",
      "\n",
      "Epoch 00129: loss improved from 2.52108 to 2.52075, saving model to nextword1.h5\n",
      "Epoch 130/150\n",
      "242/242 [==============================] - 2s 7ms/step - loss: 2.4892\n",
      "\n",
      "Epoch 00130: loss improved from 2.52075 to 2.52048, saving model to nextword1.h5\n",
      "Epoch 131/150\n",
      "242/242 [==============================] - 2s 7ms/step - loss: 2.4980\n",
      "\n",
      "Epoch 00131: loss improved from 2.52048 to 2.52048, saving model to nextword1.h5\n",
      "Epoch 132/150\n",
      "242/242 [==============================] - 2s 7ms/step - loss: 2.5040\n",
      "\n",
      "Epoch 00132: loss did not improve from 2.52048\n",
      "Epoch 133/150\n",
      "242/242 [==============================] - 2s 7ms/step - loss: 2.5063\n",
      "\n",
      "Epoch 00133: loss improved from 2.52048 to 2.52016, saving model to nextword1.h5\n",
      "Epoch 134/150\n",
      "242/242 [==============================] - 2s 7ms/step - loss: 2.5075\n",
      "\n",
      "Epoch 00134: loss did not improve from 2.52016\n",
      "Epoch 135/150\n",
      "242/242 [==============================] - 2s 7ms/step - loss: 2.5374\n",
      "\n",
      "Epoch 00135: loss did not improve from 2.52016\n",
      "Epoch 136/150\n",
      "242/242 [==============================] - 2s 7ms/step - loss: 2.5307\n",
      "\n",
      "Epoch 00136: loss improved from 2.52016 to 2.51984, saving model to nextword1.h5\n",
      "Epoch 137/150\n",
      "242/242 [==============================] - 2s 7ms/step - loss: 2.5355\n",
      "\n",
      "Epoch 00137: loss improved from 2.51984 to 2.51953, saving model to nextword1.h5\n",
      "Epoch 138/150\n",
      "242/242 [==============================] - 2s 7ms/step - loss: 2.4994\n",
      "\n",
      "Epoch 00138: loss did not improve from 2.51953\n",
      "Epoch 139/150\n",
      "242/242 [==============================] - 2s 7ms/step - loss: 2.5084\n",
      "\n",
      "Epoch 00139: loss did not improve from 2.51953\n",
      "Epoch 140/150\n",
      "242/242 [==============================] - 2s 7ms/step - loss: 2.5050\n",
      "\n",
      "Epoch 00140: loss improved from 2.51953 to 2.51926, saving model to nextword1.h5\n",
      "Epoch 141/150\n",
      "242/242 [==============================] - 2s 7ms/step - loss: 2.5255\n",
      "\n",
      "Epoch 00141: loss did not improve from 2.51926\n",
      "Epoch 142/150\n",
      "242/242 [==============================] - 2s 7ms/step - loss: 2.5239\n",
      "\n",
      "Epoch 00142: loss did not improve from 2.51926\n",
      "Epoch 143/150\n",
      "242/242 [==============================] - 2s 7ms/step - loss: 2.5279\n",
      "\n",
      "Epoch 00143: loss did not improve from 2.51926\n",
      "\n",
      "Epoch 00143: ReduceLROnPlateau reducing learning rate to 0.0001.\n",
      "Epoch 144/150\n",
      "242/242 [==============================] - 2s 7ms/step - loss: 2.4850\n",
      "\n",
      "Epoch 00144: loss improved from 2.51926 to 2.51167, saving model to nextword1.h5\n",
      "Epoch 145/150\n",
      "242/242 [==============================] - 2s 7ms/step - loss: 2.5131\n",
      "\n",
      "Epoch 00145: loss improved from 2.51167 to 2.51137, saving model to nextword1.h5\n",
      "Epoch 146/150\n",
      "242/242 [==============================] - 2s 7ms/step - loss: 2.4981\n",
      "\n",
      "Epoch 00146: loss did not improve from 2.51137\n",
      "Epoch 147/150\n",
      "242/242 [==============================] - 2s 7ms/step - loss: 2.4847\n",
      "\n",
      "Epoch 00147: loss improved from 2.51137 to 2.51132, saving model to nextword1.h5\n",
      "Epoch 148/150\n",
      "242/242 [==============================] - 2s 7ms/step - loss: 2.4991\n",
      "\n",
      "Epoch 00148: loss improved from 2.51132 to 2.51127, saving model to nextword1.h5\n",
      "Epoch 149/150\n",
      "242/242 [==============================] - 2s 7ms/step - loss: 2.5115\n",
      "\n",
      "Epoch 00149: loss improved from 2.51127 to 2.51119, saving model to nextword1.h5\n",
      "Epoch 150/150\n",
      "242/242 [==============================] - 2s 7ms/step - loss: 2.4926\n",
      "\n",
      "Epoch 00150: loss did not improve from 2.51119\n"
     ]
    },
    {
     "data": {
      "text/plain": [
       "<tensorflow.python.keras.callbacks.History at 0x14b95c7788d0>"
      ]
     },
     "execution_count": 28,
     "metadata": {},
     "output_type": "execute_result"
    }
   ],
   "source": [
    "model.fit(X, y, epochs=150, batch_size=64, callbacks=[checkpoint, reduce, tensorboard_Visualization])"
   ]
  },
  {
   "cell_type": "code",
   "execution_count": 29,
   "metadata": {},
   "outputs": [],
   "source": [
    "from tensorflow.keras.models import load_model\n",
    "model = load_model('nextword1.h5')\n",
    "tokenizer = pickle.load(open('tokenizer1.pkl', 'rb'))"
   ]
  },
  {
   "cell_type": "code",
   "execution_count": 30,
   "metadata": {},
   "outputs": [],
   "source": [
    "def Predict_Next_Words(model, tokenizer, text):\n",
    "    \"\"\"\n",
    "        In this function we are using the tokenizer and models trained\n",
    "        and we are creating the sequence of the text entered and then\n",
    "        using our model to predict and return the the predicted word.\n",
    "    \n",
    "    \"\"\"\n",
    "    for i in range(3):\n",
    "        sequence = tokenizer.texts_to_sequences([text])[0]\n",
    "        sequence = np.array(sequence)\n",
    "        \n",
    "        preds = model.predict_classes(sequence)\n",
    "#         print(preds)\n",
    "        predicted_word = \"\"\n",
    "        \n",
    "        for key, value in tokenizer.word_index.items():\n",
    "            if value == preds:\n",
    "                predicted_word = key\n",
    "                break\n",
    "        \n",
    "        print(predicted_word)\n",
    "        return predicted_word"
   ]
  },
  {
   "cell_type": "code",
   "execution_count": 31,
   "metadata": {},
   "outputs": [
    {
     "name": "stdin",
     "output_type": "stream",
     "text": [
      "Enter your line:  for i in\n"
     ]
    },
    {
     "name": "stderr",
     "output_type": "stream",
     "text": [
      "/home/rgoli/software/venv/tf1_gpu/lib/python3.7/site-packages/tensorflow/python/keras/engine/sequential.py:450: UserWarning: `model.predict_classes()` is deprecated and will be removed after 2021-01-01. Please use instead:* `np.argmax(model.predict(x), axis=-1)`,   if your model does multi-class classification   (e.g. if it uses a `softmax` last-layer activation).* `(model.predict(x) > 0.5).astype(\"int32\")`,   if your model does binary classification   (e.g. if it uses a `sigmoid` last-layer activation).\n",
      "  warnings.warn('`model.predict_classes()` is deprecated and '\n"
     ]
    },
    {
     "name": "stdout",
     "output_type": "stream",
     "text": [
      "range\n"
     ]
    },
    {
     "name": "stdin",
     "output_type": "stream",
     "text": [
      "Enter your line:  math.\n"
     ]
    },
    {
     "name": "stdout",
     "output_type": "stream",
     "text": [
      "sqrt\n"
     ]
    },
    {
     "name": "stdin",
     "output_type": "stream",
     "text": [
      "Enter your line:  import m\n"
     ]
    },
    {
     "name": "stdout",
     "output_type": "stream",
     "text": [
      "m\n"
     ]
    },
    {
     "name": "stdin",
     "output_type": "stream",
     "text": [
      "Enter your line:  import\n"
     ]
    },
    {
     "name": "stdout",
     "output_type": "stream",
     "text": [
      "sysimport\n"
     ]
    },
    {
     "name": "stdin",
     "output_type": "stream",
     "text": [
      "Enter your line:  math.pi\n",
      "Enter your line:  print\n"
     ]
    },
    {
     "name": "stdout",
     "output_type": "stream",
     "text": [
      "f\n"
     ]
    },
    {
     "name": "stdin",
     "output_type": "stream",
     "text": [
      "Enter your line:  if\n"
     ]
    },
    {
     "name": "stdout",
     "output_type": "stream",
     "text": [
      "x\n"
     ]
    },
    {
     "name": "stdin",
     "output_type": "stream",
     "text": [
      "Enter your line:  if x==0\n"
     ]
    },
    {
     "name": "stdout",
     "output_type": "stream",
     "text": [
      "y\n"
     ]
    },
    {
     "name": "stdin",
     "output_type": "stream",
     "text": [
      "Enter your line:  return\n"
     ]
    },
    {
     "name": "stdout",
     "output_type": "stream",
     "text": [
      "false\n"
     ]
    },
    {
     "name": "stdin",
     "output_type": "stream",
     "text": [
      "Enter your line:  while\n"
     ]
    },
    {
     "name": "stdout",
     "output_type": "stream",
     "text": [
      "true\n"
     ]
    },
    {
     "name": "stdin",
     "output_type": "stream",
     "text": [
      "Enter your line:  while(x\n",
      "Enter your line:  stop the script\n"
     ]
    },
    {
     "name": "stdout",
     "output_type": "stream",
     "text": [
      "Ending The Program.....\n"
     ]
    }
   ],
   "source": [
    "while(True):\n",
    "\n",
    "    text = input(\"Enter your line: \")\n",
    "    \n",
    "    if text == \"stop the script\":\n",
    "        print(\"Ending The Program.....\")\n",
    "        break\n",
    "    \n",
    "    else:\n",
    "        try:\n",
    "            text = text.split(\" \")\n",
    "            text = text[-1]\n",
    "\n",
    "            text = ''.join(text)\n",
    "            Predict_Next_Words(model, tokenizer, text)\n",
    "            \n",
    "        except:\n",
    "            continue"
   ]
  },
  {
   "cell_type": "code",
   "execution_count": null,
   "metadata": {},
   "outputs": [],
   "source": []
  }
 ],
 "metadata": {
  "kernelspec": {
   "display_name": "TensorflowGPU",
   "language": "python",
   "name": "tf_gpu"
  },
  "language_info": {
   "codemirror_mode": {
    "name": "ipython",
    "version": 3
   },
   "file_extension": ".py",
   "mimetype": "text/x-python",
   "name": "python",
   "nbconvert_exporter": "python",
   "pygments_lexer": "ipython3",
   "version": "3.7.4"
  }
 },
 "nbformat": 4,
 "nbformat_minor": 4
}
